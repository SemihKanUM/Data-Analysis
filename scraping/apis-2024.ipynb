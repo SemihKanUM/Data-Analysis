{
 "cells": [
  {
   "cell_type": "markdown",
   "metadata": {},
   "source": [
    "# Data Analysis\n",
    "\n",
    "# APIs and data acquisition\n",
    "\n",
    "In this notebook we will explore how we can extract data from web-APIs. The first part of this tutorial is based on [this blog](https://www.dataquest.io/blog/python-api-tutorial/).\n",
    "\n",
    "API stands for Application Programming Interface. It is supposed to be a **well defined interface** for consuming data (in contrast to web-scraping), or, more generally, for the **interaction with a remote program** on a server. APIs aren't only generated so that you can read data; they're often designed so that you could write custom software to interact with the API. You could, for example, write your own twitter client! \n",
    "\n",
    "APIs are usually well documented, as the organization that provides APIs wants you to use them. \n",
    "\n",
    "Here are a couple of examples of sites that have documented APIs:\n",
    "\n",
    " * [StackExchange](https://api.stackexchange.com/docs)  \n",
    " * ~~[Twitter](https://dev.twitter.com/rest/public)~~ (still documented, but now expensive)\n",
    " * [Facebook](https://developers.facebook.com/docs/graph-api)\n",
    " * [KEGG](http://www.genome.jp/kegg/rest/keggapi.html) \n",
    " * [Google Maps](https://developers.google.com/maps/) \n",
    " * and many many more. \n",
    " \n",
    "Most APIs require some form of authentication and have rules on what you're allowed to do and what not. Follow those rules, or you will be blocked faster than you can say `GET`. \n",
    " \n",
    "Working with an API is a lot like working with a website, but instead of a human in front of the screen, it's computers talking to each other. \n",
    "\n",
    "We'll be using the dominant form of APIs on the web: REST (REpresentational State Transfer). REST APIs use an [URI](https://en.wikipedia.org/wiki/Uniform_Resource_Identifier) (a Uniform Resource Identifier; URLs are one specific form of URIs) to specify what you want to do with and API.\n",
    "\n",
    "All API methods in REST are relative to a base URL. E.g., for [cat facts](https://alexwohlbruck.github.io/cat-facts/) this would be\n",
    "```\n",
    "https://cat-fact.herokuapp.com\n",
    "```\n",
    "\n",
    "A query would look like this: \n",
    "\n",
    "```\n",
    "https://cat-fact.herokuapp.com/facts/random?amount=3\n",
    "```\n",
    "\n",
    "\n",
    "REST APIs can return data in different forms. The most common ones are JSON and XML, and of those two, JSON is now dominant. \n",
    "\n",
    "JSON stands for JavaScript Object Notation, and is a pretty convenient format, as we'll see. \n",
    " \n",
    "\n",
    "Let's start with a very simple example, retrieving the current position of the ISS. We will be using the [requests library](http://www.python-requests.org/en/latest/), which will handle our communication with the server."
   ]
  },
  {
   "cell_type": "code",
   "execution_count": 1,
   "metadata": {},
   "outputs": [
    {
     "data": {
      "text/plain": [
       "<Response [200]>"
      ]
     },
     "execution_count": 1,
     "metadata": {},
     "output_type": "execute_result"
    }
   ],
   "source": [
    "import requests \n",
    "import pandas as pd\n",
    "# Make a get request to get the latest position of the international space station from the opennotify api.\n",
    "response = requests.get(\"http://api.open-notify.org/iss-now.json\")\n",
    "\n",
    "response"
   ]
  },
  {
   "cell_type": "markdown",
   "metadata": {},
   "source": [
    "That looks good, we've received a response with the message \"200\". What does the 200 mean? It's a status code - you've probably seen the \"Error 404\" on the internet. \n",
    "\n",
    "Here are a couple of codes:\n",
    "\n",
    " * **200** – everything went okay, and the result has been returned (if any)\n",
    " * **301** – the server is redirecting you to a different endpoint. This can happen when a company switches domain names, or an endpoint name is changed.\n",
    " * **401** – the server thinks you’re not authenticated. This happens when you don’t send the right credentials to access an API (we’ll talk about authentication later).\n",
    " * **400** – the server thinks you made a bad request. This can happen when you don’t send along the right data, among other things.\n",
    " * **403** – the resource you’re trying to access is forbidden – you don’t have the right permissions to see it.\n",
    " * **404** – the resource you tried to access wasn’t found on the server.\n",
    "\n",
    "Let's try to get a response with a wrong URL:"
   ]
  },
  {
   "cell_type": "code",
   "execution_count": 2,
   "metadata": {},
   "outputs": [
    {
     "data": {
      "text/plain": [
       "<Response [404]>"
      ]
     },
     "execution_count": 2,
     "metadata": {},
     "output_type": "execute_result"
    }
   ],
   "source": [
    "response_failed = requests.get(\"http://api.open-notify.org/iss\")\n",
    "\n",
    "response_failed"
   ]
  },
  {
   "cell_type": "markdown",
   "metadata": {},
   "source": [
    "We used the get methods to put in a GET request. There are four different types of requests: \n",
    "\n",
    "![Request types](requests.png)\n",
    "[Source](https://en.wikipedia.org/wiki/Representational_state_transfer)"
   ]
  },
  {
   "cell_type": "markdown",
   "metadata": {
    "collapsed": true
   },
   "source": [
    "Let's look at the payload of our previous, successful response:"
   ]
  },
  {
   "cell_type": "code",
   "execution_count": 3,
   "metadata": {},
   "outputs": [
    {
     "name": "stdout",
     "output_type": "stream",
     "text": [
      "b'{\"timestamp\": 1709284163, \"iss_position\": {\"longitude\": \"-23.8833\", \"latitude\": \"36.9217\"}, \"message\": \"success\"}'\n"
     ]
    }
   ],
   "source": [
    "print(response.content)"
   ]
  },
  {
   "cell_type": "markdown",
   "metadata": {},
   "source": [
    "We can already see that this is JSON (though it is stored a `bytes` object), but we can check formally:"
   ]
  },
  {
   "cell_type": "code",
   "execution_count": 4,
   "metadata": {},
   "outputs": [
    {
     "data": {
      "text/plain": [
       "'application/json'"
      ]
     },
     "execution_count": 4,
     "metadata": {},
     "output_type": "execute_result"
    }
   ],
   "source": [
    "response.headers['content-type']"
   ]
  },
  {
   "cell_type": "markdown",
   "metadata": {},
   "source": [
    "We can decode this byte object, then the JSON will be readable. "
   ]
  },
  {
   "cell_type": "code",
   "execution_count": 5,
   "metadata": {},
   "outputs": [
    {
     "name": "stdout",
     "output_type": "stream",
     "text": [
      "{\"timestamp\": 1709284163, \"iss_position\": {\"longitude\": \"-23.8833\", \"latitude\": \"36.9217\"}, \"message\": \"success\"}\n"
     ]
    }
   ],
   "source": [
    "response_j = response.content.decode(\"utf-8\")\n",
    "print(response_j)"
   ]
  },
  {
   "cell_type": "markdown",
   "metadata": {},
   "source": [
    "Let's take a look at the JSON with nice formatting here:\n",
    "\n",
    "```JSON\n",
    "{\n",
    "  \"iss_position\": {\n",
    "    \"latitude\": -30.005751854107206, \n",
    "    \"longitude\": -104.20085371352678\n",
    "  }, \n",
    "  \"message\": \"success\", \n",
    "  \"timestamp\": 1475240215\n",
    "}\n",
    "```\n",
    "\n",
    "This looks a lot like a dictionary (or objects, for that matter)! We have key-value pairs. \n",
    "\n",
    "We can use the [json library](https://docs.python.org/3/library/json.html) to convert JSON into objects:"
   ]
  },
  {
   "cell_type": "code",
   "execution_count": 6,
   "metadata": {},
   "outputs": [
    {
     "name": "stdout",
     "output_type": "stream",
     "text": [
      "<class 'dict'>\n",
      "{'timestamp': 1709284163, 'iss_position': {'longitude': '-23.8833', 'latitude': '36.9217'}, 'message': 'success'}\n"
     ]
    },
    {
     "data": {
      "text/plain": [
       "{'longitude': '-23.8833', 'latitude': '36.9217'}"
      ]
     },
     "execution_count": 6,
     "metadata": {},
     "output_type": "execute_result"
    }
   ],
   "source": [
    "import json\n",
    "response_d = json.loads(response_j)\n",
    "print(type(response_d))\n",
    "print(response_d)\n",
    "response_d[\"iss_position\"]"
   ]
  },
  {
   "cell_type": "markdown",
   "metadata": {},
   "source": [
    "Or, not surprisingly, pandas can also load a json object:"
   ]
  },
  {
   "cell_type": "code",
   "execution_count": 7,
   "metadata": {},
   "outputs": [
    {
     "data": {
      "text/html": [
       "<div>\n",
       "<style scoped>\n",
       "    .dataframe tbody tr th:only-of-type {\n",
       "        vertical-align: middle;\n",
       "    }\n",
       "\n",
       "    .dataframe tbody tr th {\n",
       "        vertical-align: top;\n",
       "    }\n",
       "\n",
       "    .dataframe thead th {\n",
       "        text-align: right;\n",
       "    }\n",
       "</style>\n",
       "<table border=\"1\" class=\"dataframe\">\n",
       "  <thead>\n",
       "    <tr style=\"text-align: right;\">\n",
       "      <th></th>\n",
       "      <th>timestamp</th>\n",
       "      <th>iss_position</th>\n",
       "      <th>message</th>\n",
       "    </tr>\n",
       "  </thead>\n",
       "  <tbody>\n",
       "    <tr>\n",
       "      <th>latitude</th>\n",
       "      <td>2024-03-01 09:09:23</td>\n",
       "      <td>36.9217</td>\n",
       "      <td>success</td>\n",
       "    </tr>\n",
       "    <tr>\n",
       "      <th>longitude</th>\n",
       "      <td>2024-03-01 09:09:23</td>\n",
       "      <td>-23.8833</td>\n",
       "      <td>success</td>\n",
       "    </tr>\n",
       "  </tbody>\n",
       "</table>\n",
       "</div>"
      ],
      "text/plain": [
       "                    timestamp  iss_position  message\n",
       "latitude  2024-03-01 09:09:23       36.9217  success\n",
       "longitude 2024-03-01 09:09:23      -23.8833  success"
      ]
     },
     "execution_count": 7,
     "metadata": {},
     "output_type": "execute_result"
    }
   ],
   "source": [
    "import pandas as pd \n",
    "\n",
    "df = pd.read_json(response_j)\n",
    "df"
   ]
  },
  {
   "cell_type": "markdown",
   "metadata": {},
   "source": [
    "This isn't quite what we want - we probably want one row per timestamp and longitude and latitude as columns:"
   ]
  },
  {
   "cell_type": "code",
   "execution_count": 8,
   "metadata": {},
   "outputs": [
    {
     "data": {
      "text/plain": [
       "{'latitude': '36.9217', 'longitude': '-23.8833', 'timestamp': 1709284163}"
      ]
     },
     "execution_count": 8,
     "metadata": {},
     "output_type": "execute_result"
    }
   ],
   "source": [
    "def flatten(response_d):\n",
    "    response_flat = {}\n",
    "    response_flat[\"latitude\"] = response_d[\"iss_position\"][\"latitude\"]\n",
    "    response_flat[\"longitude\"] = response_d[\"iss_position\"][\"longitude\"]\n",
    "    response_flat[\"timestamp\"] = response_d[\"timestamp\"]\n",
    "    return response_flat\n",
    "flatten(response_d)"
   ]
  },
  {
   "cell_type": "markdown",
   "metadata": {},
   "source": [
    "That looks better. Let's get a couple of positions of the ISS over time and save it as an array:"
   ]
  },
  {
   "cell_type": "code",
   "execution_count": 9,
   "metadata": {},
   "outputs": [
    {
     "name": "stdout",
     "output_type": "stream",
     "text": [
      "{'latitude': '36.8809', 'longitude': '-23.8247', 'timestamp': 1709284164}\n",
      "{'latitude': '36.7583', 'longitude': '-23.6493', 'timestamp': 1709284167}\n",
      "{'latitude': '36.6150', 'longitude': '-23.4454', 'timestamp': 1709284171}\n",
      "{'latitude': '36.4506', 'longitude': '-23.2134', 'timestamp': 1709284175}\n",
      "{'latitude': '36.3064', 'longitude': '-23.0113', 'timestamp': 1709284178}\n",
      "{'latitude': '36.1824', 'longitude': '-22.8387', 'timestamp': 1709284181}\n",
      "{'latitude': '36.0168', 'longitude': '-22.6095', 'timestamp': 1709284185}\n",
      "{'latitude': '35.8714', 'longitude': '-22.4097', 'timestamp': 1709284189}\n",
      "{'latitude': '35.7256', 'longitude': '-22.2108', 'timestamp': 1709284192}\n",
      "{'latitude': '35.5794', 'longitude': '-22.0125', 'timestamp': 1709284196}\n"
     ]
    },
    {
     "data": {
      "text/plain": [
       "10"
      ]
     },
     "execution_count": 9,
     "metadata": {},
     "output_type": "execute_result"
    }
   ],
   "source": [
    "import time\n",
    "\n",
    "def pull_position():\n",
    "    \"\"\"Retreives the position of the ISS and returns it as a flat dictionary\"\"\"\n",
    "    response = requests.get(\"http://api.open-notify.org/iss-now.json\")\n",
    "    response_j = response.content.decode(\"utf-8\")\n",
    "    response_d = json.loads(response_j)\n",
    "    flat_response = flatten(response_d)\n",
    "    return flat_response    \n",
    "\n",
    "iss_position = []\n",
    "    \n",
    "# calls pull_position 10 times with 3 seconds break\n",
    "for i in range(10):\n",
    "    flat_response = pull_position()\n",
    "    iss_position.append(flat_response)\n",
    "    print(flat_response)\n",
    "    time.sleep(3)\n",
    "    \n",
    "len(iss_position)"
   ]
  },
  {
   "cell_type": "markdown",
   "metadata": {},
   "source": [
    "Now we can convert this into a nice dataframe:"
   ]
  },
  {
   "cell_type": "code",
   "execution_count": 10,
   "metadata": {},
   "outputs": [
    {
     "data": {
      "text/html": [
       "<div>\n",
       "<style scoped>\n",
       "    .dataframe tbody tr th:only-of-type {\n",
       "        vertical-align: middle;\n",
       "    }\n",
       "\n",
       "    .dataframe tbody tr th {\n",
       "        vertical-align: top;\n",
       "    }\n",
       "\n",
       "    .dataframe thead th {\n",
       "        text-align: right;\n",
       "    }\n",
       "</style>\n",
       "<table border=\"1\" class=\"dataframe\">\n",
       "  <thead>\n",
       "    <tr style=\"text-align: right;\">\n",
       "      <th></th>\n",
       "      <th>latitude</th>\n",
       "      <th>longitude</th>\n",
       "      <th>timestamp</th>\n",
       "    </tr>\n",
       "    <tr>\n",
       "      <th>timestamp</th>\n",
       "      <th></th>\n",
       "      <th></th>\n",
       "      <th></th>\n",
       "    </tr>\n",
       "  </thead>\n",
       "  <tbody>\n",
       "    <tr>\n",
       "      <th>2024-03-01 09:09:24</th>\n",
       "      <td>36.8809</td>\n",
       "      <td>-23.8247</td>\n",
       "      <td>2024-03-01 09:09:24</td>\n",
       "    </tr>\n",
       "    <tr>\n",
       "      <th>2024-03-01 09:09:27</th>\n",
       "      <td>36.7583</td>\n",
       "      <td>-23.6493</td>\n",
       "      <td>2024-03-01 09:09:27</td>\n",
       "    </tr>\n",
       "    <tr>\n",
       "      <th>2024-03-01 09:09:31</th>\n",
       "      <td>36.6150</td>\n",
       "      <td>-23.4454</td>\n",
       "      <td>2024-03-01 09:09:31</td>\n",
       "    </tr>\n",
       "    <tr>\n",
       "      <th>2024-03-01 09:09:35</th>\n",
       "      <td>36.4506</td>\n",
       "      <td>-23.2134</td>\n",
       "      <td>2024-03-01 09:09:35</td>\n",
       "    </tr>\n",
       "    <tr>\n",
       "      <th>2024-03-01 09:09:38</th>\n",
       "      <td>36.3064</td>\n",
       "      <td>-23.0113</td>\n",
       "      <td>2024-03-01 09:09:38</td>\n",
       "    </tr>\n",
       "    <tr>\n",
       "      <th>2024-03-01 09:09:41</th>\n",
       "      <td>36.1824</td>\n",
       "      <td>-22.8387</td>\n",
       "      <td>2024-03-01 09:09:41</td>\n",
       "    </tr>\n",
       "    <tr>\n",
       "      <th>2024-03-01 09:09:45</th>\n",
       "      <td>36.0168</td>\n",
       "      <td>-22.6095</td>\n",
       "      <td>2024-03-01 09:09:45</td>\n",
       "    </tr>\n",
       "    <tr>\n",
       "      <th>2024-03-01 09:09:49</th>\n",
       "      <td>35.8714</td>\n",
       "      <td>-22.4097</td>\n",
       "      <td>2024-03-01 09:09:49</td>\n",
       "    </tr>\n",
       "    <tr>\n",
       "      <th>2024-03-01 09:09:52</th>\n",
       "      <td>35.7256</td>\n",
       "      <td>-22.2108</td>\n",
       "      <td>2024-03-01 09:09:52</td>\n",
       "    </tr>\n",
       "    <tr>\n",
       "      <th>2024-03-01 09:09:56</th>\n",
       "      <td>35.5794</td>\n",
       "      <td>-22.0125</td>\n",
       "      <td>2024-03-01 09:09:56</td>\n",
       "    </tr>\n",
       "  </tbody>\n",
       "</table>\n",
       "</div>"
      ],
      "text/plain": [
       "                     latitude  longitude           timestamp\n",
       "timestamp                                                   \n",
       "2024-03-01 09:09:24   36.8809   -23.8247 2024-03-01 09:09:24\n",
       "2024-03-01 09:09:27   36.7583   -23.6493 2024-03-01 09:09:27\n",
       "2024-03-01 09:09:31   36.6150   -23.4454 2024-03-01 09:09:31\n",
       "2024-03-01 09:09:35   36.4506   -23.2134 2024-03-01 09:09:35\n",
       "2024-03-01 09:09:38   36.3064   -23.0113 2024-03-01 09:09:38\n",
       "2024-03-01 09:09:41   36.1824   -22.8387 2024-03-01 09:09:41\n",
       "2024-03-01 09:09:45   36.0168   -22.6095 2024-03-01 09:09:45\n",
       "2024-03-01 09:09:49   35.8714   -22.4097 2024-03-01 09:09:49\n",
       "2024-03-01 09:09:52   35.7256   -22.2108 2024-03-01 09:09:52\n",
       "2024-03-01 09:09:56   35.5794   -22.0125 2024-03-01 09:09:56"
      ]
     },
     "execution_count": 10,
     "metadata": {},
     "output_type": "execute_result"
    }
   ],
   "source": [
    "iss_position_df = pd.DataFrame(iss_position)\n",
    "iss_position_df['timestamp']  = pd.to_datetime(iss_position_df['timestamp'], unit=\"s\")\n",
    "\n",
    "iss_position_df = iss_position_df.set_index(pd.DatetimeIndex(iss_position_df['timestamp']))\n",
    "iss_position_df[\"latitude\"] = iss_position_df[\"latitude\"].map(float)\n",
    "iss_position_df[\"longitude\"] = iss_position_df[\"longitude\"].map(float)\n",
    "iss_position_df"
   ]
  },
  {
   "cell_type": "markdown",
   "metadata": {},
   "source": [
    "Let's see how the ISS moves"
   ]
  },
  {
   "cell_type": "code",
   "execution_count": 11,
   "metadata": {},
   "outputs": [
    {
     "data": {
      "text/plain": [
       "<Axes: xlabel='latitude', ylabel='longitude'>"
      ]
     },
     "execution_count": 11,
     "metadata": {},
     "output_type": "execute_result"
    },
    {
     "data": {
      "image/png": "[encoded data removed]",
      "text/plain": [
       "<Figure size 432x288 with 1 Axes>"
      ]
     },
     "metadata": {},
     "output_type": "display_data"
    }
   ],
   "source": [
    "import matplotlib.pyplot as plt\n",
    "# This next line tells jupyter to render the images inline\n",
    "%matplotlib inline\n",
    "plt.style.use('ggplot')\n",
    "iss_position_df.plot(kind=\"scatter\", x=\"latitude\", y=\"longitude\")"
   ]
  },
  {
   "cell_type": "markdown",
   "metadata": {},
   "source": [
    "### More queries\n",
    "\n",
    "We can use the [Open Notify API](http://open-notify.org/Open-Notify-API/People-In-Space/) to find out how many people are in space right now."
   ]
  },
  {
   "cell_type": "code",
   "execution_count": 12,
   "metadata": {},
   "outputs": [
    {
     "data": {
      "text/plain": [
       "{'message': 'success',\n",
       " 'people': [{'name': 'Jasmin Moghbeli', 'craft': 'ISS'},\n",
       "  {'name': 'Andreas Mogensen', 'craft': 'ISS'},\n",
       "  {'name': 'Satoshi Furukawa', 'craft': 'ISS'},\n",
       "  {'name': 'Konstantin Borisov', 'craft': 'ISS'},\n",
       "  {'name': 'Oleg Kononenko', 'craft': 'ISS'},\n",
       "  {'name': 'Nikolai Chub', 'craft': 'ISS'},\n",
       "  {'name': \"Loral O'Hara\", 'craft': 'ISS'}],\n",
       " 'number': 7}"
      ]
     },
     "execution_count": 12,
     "metadata": {},
     "output_type": "execute_result"
    }
   ],
   "source": [
    "url = \"http://api.open-notify.org/astros.json\"\n",
    "\n",
    "r = requests.get(url)\n",
    "data = r.json()\n",
    "data"
   ]
  },
  {
   "cell_type": "markdown",
   "metadata": {},
   "source": [
    "### More Queries\n",
    "\n",
    "Let's use another public API to demonstrate queries: [PokeAPI](https://pokeapi.co/):\n",
    "\n",
    "![PokeAPI Screenshot](pokeapiscreenshot.png)\n",
    "\n",
    "Notice how this one boasts several endpoints (`pokemon`, `ability`, `type`, etc) for different kinds of queries.\n",
    "\n",
    "Let's start with with the `pokemon` endpoint to get data for specific pokemon. We can look at the documentation and see that it returns a pretty large JSON object. Scanning through, I see there's a keyword `game_indices` which has members beneath it for the `game_index` and `version`>`name`. I'll print out all of those.\n",
    "\n",
    "![PokeAPI Screenshot](pokemonendpoint.png)"
   ]
  },
  {
   "cell_type": "code",
   "execution_count": 13,
   "metadata": {},
   "outputs": [
    {
     "name": "stdout",
     "output_type": "stream",
     "text": [
      "Index: 153 in red\n",
      "Index: 153 in blue\n",
      "Index: 153 in yellow\n",
      "Index: 1 in gold\n",
      "Index: 1 in silver\n",
      "Index: 1 in crystal\n",
      "Index: 1 in ruby\n",
      "Index: 1 in sapphire\n",
      "Index: 1 in emerald\n",
      "Index: 1 in firered\n",
      "Index: 1 in leafgreen\n",
      "Index: 1 in diamond\n",
      "Index: 1 in pearl\n",
      "Index: 1 in platinum\n",
      "Index: 1 in heartgold\n",
      "Index: 1 in soulsilver\n",
      "Index: 1 in black\n",
      "Index: 1 in white\n",
      "Index: 1 in black-2\n",
      "Index: 1 in white-2\n"
     ]
    }
   ],
   "source": [
    "bulbresponse = requests.get(\"http://pokeapi.co/api/v2/pokemon/bulbasaur\")\n",
    "\n",
    "# Check to make sure it worked\n",
    "if bulbresponse.status_code == 200:\n",
    "    \n",
    "    # Convert to JSON and loop through to see the index and versions\n",
    "    bulbj = json.loads(bulbresponse.content)\n",
    "    for game in bulbj[\"game_indices\"]:\n",
    "        print(f'Index: {game[\"game_index\"]} in {game[\"version\"][\"name\"]}')\n",
    "        \n",
    "# If the status code is something else, check it\n",
    "else:\n",
    "    print(bulbresponse)"
   ]
  },
  {
   "cell_type": "markdown",
   "metadata": {},
   "source": [
    "What if we want several Pokemon? This API provides us a way to index the results with the keywords `limit` and `offest`. We use the `?` to indicate we are passing parameters and the ampersand `&` to glue the parameters together."
   ]
  },
  {
   "cell_type": "code",
   "execution_count": 14,
   "metadata": {},
   "outputs": [
    {
     "name": "stdout",
     "output_type": "stream",
     "text": [
      "oreburgh-mine \t https://pokeapi.co/api/v2/location/6/\n",
      "valley-windworks \t https://pokeapi.co/api/v2/location/7/\n",
      "eterna-forest \t https://pokeapi.co/api/v2/location/8/\n",
      "fuego-ironworks \t https://pokeapi.co/api/v2/location/9/\n",
      "mt-coronet \t https://pokeapi.co/api/v2/location/10/\n",
      "great-marsh \t https://pokeapi.co/api/v2/location/11/\n",
      "solaceon-ruins \t https://pokeapi.co/api/v2/location/12/\n",
      "sinnoh-victory-road \t https://pokeapi.co/api/v2/location/13/\n",
      "ravaged-path \t https://pokeapi.co/api/v2/location/14/\n",
      "oreburgh-gate \t https://pokeapi.co/api/v2/location/15/\n"
     ]
    }
   ],
   "source": [
    "response5 = requests.get(\"http://pokeapi.co/api/v2/location?limit=10&offset=5\")\n",
    "\n",
    "# Check to make sure it worked\n",
    "if response5.status_code == 200:\n",
    "    \n",
    "    # Convert to JSON and loop through to see the name and URL\n",
    "    j5 = json.loads(response5.content)\n",
    "    for place in j5[\"results\"]:\n",
    "        print(place[\"name\"], '\\t', place[\"url\"])\n",
    "        \n",
    "# If the status code is something else, check it\n",
    "else:\n",
    "    print(response5)"
   ]
  },
  {
   "cell_type": "markdown",
   "metadata": {},
   "source": [
    "For this API, there are end points for most indices and names, so `limit` and `offset` are really there to provide a mechanism to do pagination of the results. In other APIs, this method may be the most expedient way to provide parameters for queries.\n",
    "\n",
    "Another thing to note is that the PokeAPI policies **require caching** so they don't have to serve up large quantities of data repeatedly to the same client. There are several libraries, [such as this one](https://github.com/PokeAPI/pokebase) that can handle this for you for this particular API. If you use an API in #datamadness (or any other project), please make sure you are following the API's policies."
   ]
  },
  {
   "cell_type": "markdown",
   "metadata": {},
   "source": [
    "Let's see one more example of using parameters from [nationalize.io](https://nationalize.io/) which purportedly predicts nationality based on last name. *We don't vouch for it--we're just using it as a free API with a parameter.* Note that it is limited to 100 requests/day without an API key."
   ]
  },
  {
   "cell_type": "code",
   "execution_count": 15,
   "metadata": {},
   "outputs": [
    {
     "name": "stdout",
     "output_type": "stream",
     "text": [
      "CN, probability:0.435\n",
      "TW, probability:0.261\n",
      "HK, probability:0.065\n",
      "SQ, probability:0.061\n",
      "NZ, probability:0.023\n"
     ]
    }
   ],
   "source": [
    "response = requests.get(\"https://api.nationalize.io/?name=wang\")\n",
    "\n",
    "# Check to make sure it worked\n",
    "if response.status_code == 200:\n",
    "    \n",
    "    # Print the summary of the taco\n",
    "    responsej = json.loads(response.content)\n",
    "    for country in responsej['country']:\n",
    "        print(f'{country[\"country_id\"]}, probability:{country[\"probability\"]}')\n",
    "        \n",
    "# If the status code is something else, check it\n",
    "else:\n",
    "    print(response)"
   ]
  },
  {
   "cell_type": "markdown",
   "metadata": {},
   "source": [
    "### Libraries, Authentications and keys\n",
    "\n",
    "Several providers use an identifier to distinguish applications (or individuals), apply limits, or charge for services. Even those that are free may use API keys to prevent abuse or to prepare to upsell you to a more wide or permissive plan.\n",
    "\n",
    "Note that a provider may not generate an API key immediately. It can often require some lead time. Therefore, if you plan to use a service that requires some form of authorization/authentication for your project, please note in your report whether you already have such capability.\n",
    "\n",
    "Let's see an example of an API key as used in [OpenWeather](https://openweathermap.org/api). Note this service has a free plan, but also *several* paid plans. We're specifically using the free API described [here](https://openweathermap.org/current).\n",
    "\n",
    "I have hidden my API_KEY in a file `credentials.py` so I can import the variable without sharing it with you :)"
   ]
  },
  {
   "cell_type": "code",
   "execution_count": 16,
   "metadata": {},
   "outputs": [
    {
     "name": "stdout",
     "output_type": "stream",
     "text": [
      "{'coord': {'lon': 5.691, 'lat': 50.85}, 'weather': [{'id': 802, 'main': 'Clouds', 'description': 'scattered clouds', 'icon': '03d'}], 'base': 'stations', 'main': {'temp': 280.6, 'feels_like': 276.75, 'temp_min': 278.94, 'temp_max': 281.78, 'pressure': 1004, 'humidity': 80}, 'visibility': 10000, 'wind': {'speed': 7.2, 'deg': 210}, 'clouds': {'all': 40}, 'dt': 1709284133, 'sys': {'type': 1, 'id': 1525, 'country': 'NL', 'sunrise': 1709274070, 'sunset': 1709313493}, 'timezone': 3600, 'id': 2751283, 'name': 'Maastricht', 'cod': 200}\n"
     ]
    }
   ],
   "source": [
    "# Read my API Key into a variable\n",
    "from credentials import API_KEY\n",
    "\n",
    "# OpenWeather just has me send the API Key as the APPID parameter in my request:\n",
    "response = requests.get(f'https://api.openweathermap.org/data/2.5/weather?lat=50.85&lon=5.6910&APPID={API_KEY}')\n",
    "if response.status_code == 200:\n",
    "    \n",
    "    # Print the summary of the taco\n",
    "    responsej = json.loads(response.content)\n",
    "    print(responsej)\n",
    "        \n",
    "# If the status code is something else, check it\n",
    "else:\n",
    "    print(response)"
   ]
  },
  {
   "cell_type": "markdown",
   "metadata": {},
   "source": [
    "Scrolling through the [documentation](https://openweathermap.org/current), we can also query by city name with `q` or zip code with `zip`:"
   ]
  },
  {
   "cell_type": "code",
   "execution_count": 17,
   "metadata": {
    "scrolled": true
   },
   "outputs": [
    {
     "name": "stdout",
     "output_type": "stream",
     "text": [
      "{'coord': {'lon': 5.6889, 'lat': 50.8483}, 'weather': [{'id': 804, 'main': 'Clouds', 'description': 'overcast clouds', 'icon': '04d'}], 'base': 'stations', 'main': {'temp': 280.44, 'feels_like': 277.08, 'temp_min': 279.49, 'temp_max': 281.66, 'pressure': 1004, 'humidity': 85}, 'visibility': 10000, 'wind': {'speed': 5.66, 'deg': 210}, 'clouds': {'all': 100}, 'dt': 1709283760, 'sys': {'type': 1, 'id': 1525, 'country': 'NL', 'sunrise': 1709274071, 'sunset': 1709313493}, 'timezone': 3600, 'id': 2751283, 'name': 'Maastricht', 'cod': 200}\n"
     ]
    }
   ],
   "source": [
    "# OpenWeather just has me send the API Key as the APPID parameter in my request:\n",
    "\n",
    "response = requests.get(f'https://api.openweathermap.org/data/2.5/weather?id=2751283&appid={API_KEY}')\n",
    "if response.status_code == 200:\n",
    "    \n",
    "    # Print the summary of the taco\n",
    "    responsej = json.loads(response.content)\n",
    "    print(responsej)\n",
    "        \n",
    "# If the status code is something else, check it\n",
    "else:\n",
    "    print(response)"
   ]
  }
 ],
 "metadata": {
  "anaconda-cloud": {},
  "kernelspec": {
   "display_name": "Python 3",
   "language": "python",
   "name": "python3"
  },
  "language_info": {
   "codemirror_mode": {
    "name": "ipython",
    "version": 3
   },
   "file_extension": ".py",
   "mimetype": "text/x-python",
   "name": "python",
   "nbconvert_exporter": "python",
   "pygments_lexer": "ipython3",
   "version": "3.8.3"
  }
 },
 "nbformat": 4,
 "nbformat_minor": 1
}
