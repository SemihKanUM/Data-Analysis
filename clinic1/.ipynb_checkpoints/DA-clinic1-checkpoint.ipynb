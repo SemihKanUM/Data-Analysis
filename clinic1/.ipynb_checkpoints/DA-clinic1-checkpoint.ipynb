{
 "cells": [
  {
   "cell_type": "markdown",
   "id": "7e3a9aff",
   "metadata": {},
   "source": [
    "(Placeholder for your group #)\n",
    "\n",
    "(Placeholder for your names)\n",
    "\n",
    "(Placeholder for your i-numbers)"
   ]
  },
  {
   "cell_type": "markdown",
   "id": "5d5ab070",
   "metadata": {},
   "source": [
    "**Use of genAI tools (e.g. chatGPT), websites (e.g. stackoverflow)**: *list websites where you found code (or other info) as well as include information on how you used genAI tools*"
   ]
  },
  {
   "cell_type": "markdown",
   "id": "2a108445",
   "metadata": {},
   "source": [
    "# Data Analysis, Clinic 1\n",
    "# FIETS: Fundamentele Innovatie En Technologie in Scholing\n",
    "## Met FIETS blijft het onderwijs vooruitgaan, zelfs tegen de wind in!\n",
    "\n",
    "---\n",
    "\n",
    "By completing and delivering the clinic tasks you will know how to :\n",
    "\n",
    "- Load data and handle data using pandas;\n",
    "- Navigate the documentation of Python packages by yourself;\n",
    "- Filter and tidy up **noisy** real-world datasets;\n",
    "- Aggregate your data in different (and hopefully helpful) ways;\n",
    "- Use EDA to learn more about your data\n",
    "- Create and interpret informative visualizations to explore the data set\n",
    "- Derive meaningful insights for the societal impact of datasets\n",
    "\n",
    "---\n",
    "**Important Dates.**\n",
    "\n",
    "- Clinic 1 release: Thu 30 Jan 2024\n",
    "- Clinic 1 due: Fri 07 Feb 2024 late night, wildcards available\n",
    "\n",
    "**Instructions for the deliverable:**\n",
    "\n",
    "* You are allowed to use any built-in Python library that comes with Anaconda. If you want to use an external library, you may do so, but must justify your choice.\n",
    "\n",
    "* Make sure that you include a proper amount/mix of comments, results and code. More specifically, be sure to provide a concise textual description of your thought process, the assumptions you made, the solution you implemented, and explanations for your answers. A notebook that only has code cells will not suffice. To avoid confusion: use short comments for longer code answers.\n",
    "\n",
    "* For questions containing the /Discuss:/ prefix, answer not with code, but with a textual explanation (in markdown).\n",
    "\n",
    "* Back up any hypotheses and claims with data, since this is an important aspect of the course.\n",
    "\n",
    "* Please write all your comments in English, and use meaningful variable names (as possible) in your code. \n",
    "\n",
    "* In the end, make sure that all cells are executed properly and everything you need to show is in your (execucted) notebook. We will not run your notebook for you! \n",
    "\n",
    "- In continuation to the previous point, interactive plots, such as those generated using the ‘plotly’ package, should be strictly avoided! Make sure to print results and/or dataframes that confirm you have properly addressed the task.\n",
    "\n",
    "* You are asked to deliver **only your executed notebook file, .ipnyb** and nothing else. If you deliver other files, we will not grade anything.\n",
    "\n",
    "* Honor code applies to these tasks. If you are not certain about an action, consult with Jerry.\n",
    "\n",
    "**A Note from Jerry on using Language Models (LMs)**\n",
    "\n",
    "If you try hard enough, you will likely get away with cheating (that does not only apply to LMs). Fortunately, my job is not to police, but rather to educate you. So, please consider the following:\n",
    "\n",
    "I assume that you are taking this course to learn something! LMs are not always right ([they often fail in silly ways](https://community.openai.com/t/why-9-11-is-larger-than-9-9-incredible/869824/4)). This course should prepare you to detect when they are wrong!\n",
    "\n",
    "I don't restrict the use of LMs because I see the value of being helped when coding (esp. in the context of pandas dataframes nightmare :)). Based on what we saw last year in your notebooks, it's pretty clear when you \"copy\" some code and then you struggle to interpret the results. This is the essence of this course and of the skills you should try build for yourself: Many people can run fancy models these days but not many people can interpret the results correctly. Try to be the latter ones.\n",
    "\n",
    "---"
   ]
  },
  {
   "cell_type": "markdown",
   "id": "f9b54879",
   "metadata": {},
   "source": [
    "## Context\n",
    "\n",
    "AI is booming! Newspapers, influencers and your relatives all agree that AI is important. But while almost everyone agrees that AI is the future, much is unclear about what that future esp. in critical sectors like education looks like...\n",
    "\n",
    "Freshly graduated from a top Dutch university in Limburg, you are hired by the Dutch government to advise on a large-scale “education innovation” initiative code-named \"FIETS\" (Flexibele Innovatie voor Efficiënte Toepassing in Scholing). With higher education facing severe budget cuts, the government is looking for creative solutions to \"do more with less.\" Convinced by the stunning progress in language modeling, officials believe LLMs could help battle growing teacher shortages and reduce costs by automating parts of the education process. Your job description: investigate which LMs might be best suited to plug the gaps without draining the budget!\n",
    "\n",
    "You are handed the results of three LMs on the [“Massive Multitask Language Understanding (MMLU)”](https://arxiv.org/abs/2009.03300) dataset  to compare. This famous dataset consists of 57 subjects with multiple-choice questions, covering diverse subjects like mathematics, computer science, history, and law. Most providers of state-of-the-art LMs use this dataset to showcase the versatility of their latest models. Unfortunately, the intern responsible for collecting the results, didn’t pay attention during DACS KEN3450: Data Analysis. As a result, the collected datasets are slightly corrupted. Jammer!\n",
    "\n",
    "The success of FIETS depends on your ability to make sense of the messy data and recommend the best model to keep the Dutch education system pedaling forward—despite uphill challenges like funding shortages and a skeptical academic community!\n",
    "\n",
    "### A very brief primer on Language Models\n",
    "We studied LLMs in the context of the NLP course but here is a short reminder. Language models (LMs) are sophisticated statistical models designed to understand and generate human-like text. At their core, LMs are trained to predict the most likely continuation of a given input text. For example, given the input \"The cat sat on the,\" an LM might predict \"mat\" as a likely continuation.\n",
    "LMs are trained on vast text samples from various sources, including books, websites, and social media. This extensive training allows them to capture patterns and relationships in language, enabling them to generate coherent and contextually appropriate text across a wide range of topics and styles.\n",
    "\n",
    "While LMs can produce text that appears to be written by intelligent humans, it's important to note that their capabilities can diverge from human intelligence in unexpected ways. They may sometimes generate factually incorrect information or struggle with complex reasoning tasks.\n",
    "\n",
    "Two key concepts in understanding LMs are:\n",
    "1. **Tokens**: LMs process text using \"tokens\" rather than individual characters. Tokens can be words, parts of words, or punctuation marks. For example, the sentence \"I love AI!\" might be tokenized as [\"I\", \"love\", \"AI\", \"!\"]. Tokenization is the first step in both training and using an LM.\n",
    "2. **Context**: The input text provided to an LM is called the \"context.\" This context informs the model's predictions or generations. A longer or more specific context often leads to more accurate and relevant outputs.\n",
    "\n",
    "[See: Wikipedia entry on language models](https://en.wikipedia.org/wiki/Large_language_model)\n",
    "\n",
    "###  Files for this assignment\n",
    "This assignment is divided into three tasks, each of which should bring you a step closer to providing a recommendation toward project the objectives of FIETS:\n",
    "\n",
    "- **Task 1**: Inspecting the results and getting your first model ranking\n",
    "- **Task 2**: Inspecting the underlying data used to generate the results for possible biases\n",
    "- **Task 3**: Learning about tokens and providing a final recommendation\n",
    "\n",
    "\n",
    "```\n",
    "📁 FIETS\n",
    "│\n",
    "├── 📄 clinic1.ipynb (the file you're currently reading!)\n",
    "│\n",
    "└── 📁 data\n",
    "    ├── 📁 task_1\n",
    "    ├── 📁 task_2\n",
    "    └── 📁 task_2.5\n",
    "```   \n",
    " "
   ]
  },
  {
   "cell_type": "code",
   "execution_count": 2,
   "id": "1c8fd700",
   "metadata": {},
   "outputs": [],
   "source": [
    "# some basic imports\n",
    "import os\n",
    "import pandas as pd\n",
    "import numpy as np\n",
    "import matplotlib.pyplot as plt\n",
    "import warnings\n",
    "from scipy.stats import ttest_ind"
   ]
  },
  {
   "cell_type": "markdown",
   "id": "bd2a7be4",
   "metadata": {},
   "source": [
    "## Task 1 (18 points): What's in an average anyway?\n",
    "\n",
    "The files needed to complete task 1 can be found in the folder \"`data/task_1/`:\n",
    "```\n",
    "task_1/\n",
    "│\n",
    "├── mmlu_data/\n",
    "│   └── test.csv\n",
    "│\n",
    "└── lm_scores/\n",
    "    ├── lm_X.csv\n",
    "    ├── lm_Y.csv\n",
    "    └── lm_Z.csv\n",
    "```\n",
    "\n",
    "We will start by loading, (manually) inspecting, and cleaning the data. Although it doesn't seem \"glamorous\" (nor is it particularly fun...) - manually inspecting data is extremely important! In fact, it's one of the few things most AI and Data Science researchers agree on :). Next, we will take a first pass on ordering our Olympic podium between three LMs."
   ]
  },
  {
   "cell_type": "markdown",
   "id": "16518de6",
   "metadata": {},
   "source": [
    "### 1.1 (1 pt)\n",
    " \n",
    "Load the subfiles contained in the `mmlu_data` and `lm_scores` folders into separate dataframes:\n",
    "- `df_test`\n",
    "- `df_x`\n",
    "- `df_y`\n",
    "- `df_z`\n",
    "\n",
    "for each, print their sizes."
   ]
  },
  {
   "cell_type": "code",
   "execution_count": 4,
   "id": "80eabdcb",
   "metadata": {},
   "outputs": [
    {
     "name": "stdout",
     "output_type": "stream",
     "text": [
      "df_test:  (14042, 8)\n",
      "df_x:  (13882, 2)\n",
      "df_y:  (13978, 2)\n",
      "df_z:  (13923, 2)\n"
     ]
    }
   ],
   "source": [
    "df_test = pd.read_csv('data/task_1/mmlu_data/test.csv')\n",
    "\n",
    "f = 'data/task_1/lm_scores/'\n",
    "df_x = pd.read_csv(os.path.join(f, 'lm_X.csv'))\n",
    "df_y = pd.read_csv(os.path.join(f, 'lm_Y.csv'))\n",
    "df_z = pd.read_csv(os.path.join(f, 'lm_Z.csv'))\n",
    "\n",
    "print('df_test: ', df_test.shape)\n",
    "print('df_x: ', df_x.shape)\n",
    "print('df_y: ', df_y.shape)\n",
    "print('df_z: ', df_z.shape)\n"
   ]
  },
  {
   "cell_type": "code",
   "execution_count": 44,
   "id": "f62e01d8",
   "metadata": {},
   "outputs": [
    {
     "name": "stdout",
     "output_type": "stream",
     "text": [
      "df_test:  Index(['question', 'A', 'B', 'C', 'D', 'answer', 'subject', 'question_id'], dtype='object')\n"
     ]
    }
   ],
   "source": [
    "print('df_test: ', df_test.columns)"
   ]
  },
  {
   "cell_type": "markdown",
   "id": "da14c5e2",
   "metadata": {},
   "source": [
    "### 1.2 (4 pt)\n",
    "Unfortunately, LMs don't always output the format we want. In the column `result`, the value should be one of A, B, C, or D. \n",
    "\n",
    "A. For each of the LM score dataframes, use a `value_counts()` operation and print the results. \n",
    "\n",
    "B. /Discuss:/ Inspect the results and describe the types of answer formats you see. Besides the \"expected\" case, you should be able to find at least four unexpected formats."
   ]
  },
  {
   "cell_type": "code",
   "execution_count": 25,
   "id": "eeebdb42",
   "metadata": {},
   "outputs": [
    {
     "name": "stdout",
     "output_type": "stream",
     "text": [
      "--------\n",
      "Model X answer formats:\n",
      "A                                                                                         2733\n",
      "D                                                                                          596\n",
      "tribute in the form of gold, jade, feathers, cloth, and jewels., so the answer is A          1\n",
      "purely physical and natural, so the answer is B                                              1\n",
      "up to 250, so the answer is A                                                                1\n",
      "household account book, so the answer is C                                                   1\n",
      "the student should be listed as the first author., so the answer is A                        1\n",
      "the right to remove oil is an incident of a defeasible fee simple., so the answer is A       1\n",
      "quantity demanded barely changes with a change in price, so the answer is B                  1\n",
      "Inductance., so the answer is B                                                              1\n",
      "5, so the answer is A                                                                        1\n",
      "3, so the answer is B                                                                        1\n",
      "Changes a lot past age 50, so the answer is A                                                1\n",
      "6.68%, so the answer is D                                                                    1\n",
      "judicial activism, so the answer is A                                                        1\n",
      "Name: result, dtype: int64\n",
      "--------\n",
      "Model Y answer formats:\n",
      "D                                                                                                                                                                                                                                                                                                                                                                                                 2894\n",
      "B                                                                                                                                                                                                                                                                                                                                                                                                  553\n",
      "Wrong, Not wrong, so the answer is B                                                                                                                                                                                                                                                                                                                                                                 1\n",
      "Denver boot, so the answer is B                                                                                                                                                                                                                                                                                                                                                                      1\n",
      "Rapid adsorption and fusion from without via a hydrophobic peptide, so the answer is C                                                                                                                                                                                                                                                                                                               1\n",
      "Weak state insecurity dilemmas are born out of a lack of political and institutional centring with a monopoly of force. However, the engagement of armed forces to strengthen institutions may stop this process. Inability to foster 'stateness' is reversed by the use of violence. Social disquiet is a semi-permanent situation of emergent but not developed anarchy., so the answer is D       1\n",
      "tells you how many SDs away from the mean a score is, so the answer is D                                                                                                                                                                                                                                                                                                                             1\n",
      "No, because the company's duty to use reasonable care in hiring a competent driver extended only to actions taken by the worker in the scope of his employment., so the answer is A                                                                                                                                                                                                                  1\n",
      "(∀x)(Fx ≡ Sx), so the answer is D                                                                                                                                                                                                                                                                                                                                                                    1\n",
      "Whois, so the answer is B                                                                                                                                                                                                                                                                                                                                                                            1\n",
      "a solution with a high fibre content., so the answer is D                                                                                                                                                                                                                                                                                                                                            1\n",
      "40, so the answer is D                                                                                                                                                                                                                                                                                                                                                                               1\n",
      "Price falls as firms enter the industry., so the answer is D                                                                                                                                                                                                                                                                                                                                         1\n",
      "NATO, so the answer is D                                                                                                                                                                                                                                                                                                                                                                             1\n",
      "Monoclonal antibodies, so the answer is C                                                                                                                                                                                                                                                                                                                                                            1\n",
      "Name: result, dtype: int64\n",
      "--------\n",
      "Model Z answer formats:\n",
      "D                                                                                                                                                                          2257\n",
      "B                                                                                                                                                                           285\n",
      "all of the above, so the answer is D                                                                                                                                          2\n",
      "Fibre sources, such as hemicelluloses, pectins and inulin are rapidly fermented to short chain fatty acids, which have trophic effects on the colon, so the answer is C       1\n",
      "moral blame, so the answer is A                                                                                                                                               1\n",
      "preventive theories of punishment., so the answer is D                                                                                                                        1\n",
      "2, so the answer is C                                                                                                                                                         1\n",
      "Temple of the Feathered Serpent; 400, so the answer is B                                                                                                                      1\n",
      "All of the above., so the answer is D                                                                                                                                         1\n",
      "Mechanistic, so the answer is B                                                                                                                                               1\n",
      "Search, experience, and credence properties., so the answer is B                                                                                                              1\n",
      "Your decision trees are too shallow., so the answer is A                                                                                                                      1\n",
      "federal statutes, so the answer is B                                                                                                                                          1\n",
      "kangaroo, so the answer is B                                                                                                                                                  1\n",
      "two, so the answer is B                                                                                                                                                       1\n",
      "$200,000,000, so the answer is B                                                                                                                                              1\n",
      "public issues, so the answer is B                                                                                                                                             1\n",
      "The ad is ethical because even psychologists are protected by the First Amendment protecting one’s freedom of speech, so the answer is D                                      1\n",
      "become less able to perceive sound distinctions not made in their own language, so the answer is A                                                                            1\n",
      "Larceny of the ring., so the answer is B                                                                                                                                      1\n",
      "The superficial appearance of a 'star' on negative straining electron microscopy, so the answer is B                                                                          1\n",
      "Population-centered, so the answer is B                                                                                                                                       1\n",
      "Import restrictions to protect a domestic market from foreign goods., so the answer is D                                                                                      1\n",
      "overrule the objection, because an authenticating witness need not be an expert if familiar with the handwriting of the person in question., so the answer is D               1\n",
      "the landlord, because a tenant remains liable to pay rent, even though as a result of the fire, the property was rendered uninhabitable., so the answer is A                  1\n",
      "guilty of solicitation and conspiracy to commit murder., so the answer is C                                                                                                   1\n",
      "Arteriovenous fistula, so the answer is B                                                                                                                                     1\n",
      "Murder., so the answer is A                                                                                                                                                   1\n",
      "No, because a jury could find that there was a latent defect in the doors., so the answer is A                                                                                1\n",
      "Because the concept of rights is philosophically unsound., so the answer is C                                                                                                 1\n",
      "8.1, so the answer is A                                                                                                                                                       1\n",
      "An acf and pacf that both decline geometrically, so the answer is A                                                                                                           1\n",
      "atmosphere, so the answer is A                                                                                                                                                1\n",
      "Flipper of a cetacean, so the answer is D                                                                                                                                     1\n",
      "meiosis, so the answer is D                                                                                                                                                   1\n",
      "Ea • Ec, so the answer is A                                                                                                                                                   1\n",
      "500, so the answer is D                                                                                                                                                       1\n",
      "If patient has an artificial heart valve., so the answer is C                                                                                                                 1\n",
      "Schober's test is designed to quantify the flexion of the lumbar spine, so the answer is B                                                                                    1\n",
      "Jupiter's greater mass compresses it more thus increasing its density., so the answer is A                                                                                    1\n",
      "0.5 mm, so the answer is B                                                                                                                                                    1\n",
      "I, II, and III, so the answer is D                                                                                                                                            1\n",
      "Finding ALL spanning trees of G, so the answer is C                                                                                                                           1\n",
      "idiographic, so the answer is B                                                                                                                                               1\n",
      "effective psychological environment, so the answer is C                                                                                                                       1\n",
      "16 N, so the answer is C                                                                                                                                                      1\n",
      "186 pm, 496 kJ/mol, so the answer is A                                                                                                                                        1\n",
      "Epiglottis, so the answer is B                                                                                                                                                1\n",
      "Red blood cells, so the answer is C                                                                                                                                           1\n",
      "The USA Patriot Act of 2001, so the answer is C                                                                                                                               1\n",
      "gravity., so the answer is D                                                                                                                                                  1\n",
      "Low taxes on the peasants and middle class, so the answer is C                                                                                                                1\n",
      "0, so the answer is C                                                                                                                                                         1\n",
      "2 × 5, so the answer is B                                                                                                                                                     1\n",
      "appears in the current account, so the answer is C                                                                                                                            1\n",
      "this will increase the demand for the product., so the answer is D                                                                                                            1\n",
      "Name: result, dtype: int64\n"
     ]
    }
   ],
   "source": [
    "# A\n",
    "print(\"--------\")\n",
    "print(\"Model X answer formats:\")\n",
    "print(df_x['result'].value_counts()[::10])\n",
    "print(\"--------\")\n",
    "print(\"Model Y answer formats:\")\n",
    "print(df_y['result'].value_counts()[::10])\n",
    "print(\"--------\")\n",
    "print(\"Model Z answer formats:\")\n",
    "print(df_z['result'].value_counts()[::10])"
   ]
  },
  {
   "cell_type": "raw",
   "id": "a342920a",
   "metadata": {},
   "source": [
    "# B\n",
    "Example: \"tribute in the form of gold, jade, feathers, cloth, and jewels., so the answer is A\"\n",
    "This appears across all three models but is especially prevalent in Model Z\n",
    "\n",
    "Raw answer text without letter designation\n",
    "\n",
    "Example: \"kangaroo\", \"meiosis\", \"gravity\"\n",
    "The models sometimes output just the answer text without specifying which choice (A/B/C/D) it corresponds to\n",
    "\n",
    "Numerical answers\n",
    "\n",
    "Example: \"500\", \"0.5 mm\", \"16 N\"\n",
    "The models sometimes output just the numerical value without the corresponding letter choice\n",
    "\n",
    "Mathematical/Scientific notation\n",
    "\n",
    "Example: \"Ea • Ec\", \"(∀x)(Fx ≡ Sx)\"\n",
    "Models sometimes output the mathematical expressions directly\n",
    "\n",
    "Multi-part or compound answers\n",
    "\n",
    "Example: \"186 pm, 496 kJ/mol\"\n",
    "Example: \"I, II, and III\"\n",
    "The models sometimes output multiple values or list-style answers\n",
    "\n",
    "This suggests we'll need a robust cleaning function to standardize these outputs into the required A/B/C/D format."
   ]
  },
  {
   "cell_type": "markdown",
   "id": "98377d82",
   "metadata": {},
   "source": [
    "### 1.3 (5 pt)\n",
    "Oh oh... That doesn't look great. Simply dropping all invalid answers seems overly wasteful, yet fixing all of these looks like a mess! Instead, let's focus for now on fixing just those answers of length < 10 characters that require only a single `str.replace()` operation. \n",
    "\n",
    "For example, if the answer looks like `--A--`, we could fix this by using the following simple function:\n",
    "\n",
    "```\n",
    "def clean_answer(s, pattern='-'):\n",
    "    return str(s).replace(pattern, '')\n",
    "\n",
    "dirty_answer = '--A--'\n",
    "clean_answer = clean_answer(dirty_answer)\n",
    "```\n",
    "\n",
    "A. Filter the three score dataframes to include only answers with less than 10 characters. Make a deep copy of the dataframes as you filter them.\n",
    "\n",
    "B. Modify the `clean_answer()` example function to clean the answers in the filtered data frames using the `apply()` functionality. Finally, make sure **all remaining answers are one of `A, B, C, or D`.**\n",
    "\n",
    "C. /Discuss:/ Compare the sizes of the original and filtered data frames. What do you see? Why might this be a problem?"
   ]
  },
  {
   "cell_type": "code",
   "execution_count": 26,
   "id": "5241d3d5",
   "metadata": {},
   "outputs": [
    {
     "name": "stdout",
     "output_type": "stream",
     "text": [
      "Original vs filtered shapes:\n",
      "Model X: 13882 -> 13509\n",
      "Model Y: 13978 -> 13637\n",
      "Model Z: 13923 -> 12878\n",
      "\n",
      "Unique short answers in Model X:\n",
      "['B' 'C' 'D ' 'B ' 'Answer: B' 'A' 'Answer: D' 'Answer: C' 'Answer: A'\n",
      " 'Not Sure' 'A ' 'C ' 'D']\n",
      "\n",
      "Unique short answers in Model Y:\n",
      "['Answer: D' 'D' 'C' 'Answer: C' 'B' 'C ' 'Answer: A' 'A ' 'D ' 'A'\n",
      " 'Answer: B' 'B ' 'Not Sure']\n",
      "\n",
      "Unique short answers in Model Z:\n",
      "['B' 'Answer: B' 'C' 'B ' 'Answer: A' 'A' 'D' 'C ' 'A ' 'D ' 'Answer: C'\n",
      " 'Not Sure' 'Answer: D']\n"
     ]
    }
   ],
   "source": [
    "#A\n",
    "# Create filtered copies of the dataframes\n",
    "df_x_short = df_x[df_x['result'].str.len() < 10].copy()\n",
    "df_y_short = df_y[df_y['result'].str.len() < 10].copy()\n",
    "df_z_short = df_z[df_z['result'].str.len() < 10].copy()\n",
    "\n",
    "# Print the shapes to see how many short answers we have\n",
    "print(\"Original vs filtered shapes:\")\n",
    "print(f\"Model X: {df_x.shape[0]} -> {df_x_short.shape[0]}\")\n",
    "print(f\"Model Y: {df_y.shape[0]} -> {df_y_short.shape[0]}\")\n",
    "print(f\"Model Z: {df_z.shape[0]} -> {df_z_short.shape[0]}\")\n",
    "\n",
    "# Let's see the unique values in each filtered dataframe\n",
    "print(\"\\nUnique short answers in Model X:\")\n",
    "print(df_x_short['result'].unique())\n",
    "print(\"\\nUnique short answers in Model Y:\")\n",
    "print(df_y_short['result'].unique())\n",
    "print(\"\\nUnique short answers in Model Z:\")\n",
    "print(df_z_short['result'].unique())"
   ]
  },
  {
   "cell_type": "code",
   "execution_count": 31,
   "id": "b2b23f54",
   "metadata": {},
   "outputs": [
    {
     "name": "stdout",
     "output_type": "stream",
     "text": [
      "\n",
      "Model X:\n",
      "Valid answers (A,B,C,D) after cleaning:\n",
      "A    5788\n",
      "B    2965\n",
      "C    2350\n",
      "D    2333\n",
      "Name: clean_result, dtype: int64\n",
      "Null/invalid answers: 73\n",
      "\n",
      "Model Y:\n",
      "Valid answers (A,B,C,D) after cleaning:\n",
      "D    5757\n",
      "C    3242\n",
      "B    2519\n",
      "A    2033\n",
      "Name: clean_result, dtype: int64\n",
      "Null/invalid answers: 86\n",
      "\n",
      "Model Z:\n",
      "Valid answers (A,B,C,D) after cleaning:\n",
      "D    3348\n",
      "C    3255\n",
      "B    3124\n",
      "A    3026\n",
      "Name: clean_result, dtype: int64\n",
      "Null/invalid answers: 125\n"
     ]
    }
   ],
   "source": [
    "#B\n",
    "def clean_answer(s):\n",
    "    if not isinstance(s, str):\n",
    "        return None\n",
    "        \n",
    "    # Convert to uppercase and strip whitespace\n",
    "    s = s.upper().strip()\n",
    "    \n",
    "    # Common cleaning patterns\n",
    "    s = s.replace('.', '')  # Remove periods\n",
    "    s = s.replace('(', '').replace(')', '')  # Remove parentheses\n",
    "    s = s.replace(' ', '')  # Remove spaces\n",
    "    s = s.replace('ANSWER:', '')  # Remove 'Answer'\n",
    "\n",
    "    \n",
    "    # Validate the cleaned answer\n",
    "    if s in {'A', 'B', 'C', 'D'}:\n",
    "        return s\n",
    "    return None\n",
    "\n",
    "# Apply cleaning to each filtered dataframe\n",
    "df_x_short['clean_result'] = df_x_short['result'].apply(clean_answer)\n",
    "df_y_short['clean_result'] = df_y_short['result'].apply(clean_answer)\n",
    "df_z_short['clean_result'] = df_z_short['result'].apply(clean_answer)\n",
    "\n",
    "# Print results\n",
    "for name, df in [('X', df_x_short), ('Y', df_y_short), ('Z', df_z_short)]:\n",
    "    print(f\"\\nModel {name}:\")\n",
    "    print(\"Valid answers (A,B,C,D) after cleaning:\")\n",
    "    print(df['clean_result'].value_counts())\n",
    "    print(f\"Null/invalid answers: {df['clean_result'].isna().sum()}\")"
   ]
  },
  {
   "cell_type": "markdown",
   "id": "e33258d5",
   "metadata": {},
   "source": [
    "C. /Discuss:/\n",
    "\n",
    "Size Comparison:\n",
    "\n",
    "Model X: 13,882 → 13,509 (lost 373 answers, 2.7%)\n",
    "Model Y: 13,978 → 13,637 (lost 341 answers, 2.4%)\n",
    "Model Z: 13,923 → 12,878 (lost 1,045 answers, 7.5%)\n",
    "\n",
    "Problems this presents:\n",
    "\n",
    "a) Data Loss:\n",
    "\n",
    "We're losing a significant number of potentially valid answers just because they're longer than 10 characters\n",
    "Model Z in particular loses 7.5% of its data, which is concerning\n",
    "\n",
    "b) Evaluation Impact:\n",
    "\n",
    "The true accuracy of the models might be misrepresented due to this filtering\n",
    "\n",
    "This filtering approach, while simple to implement, might be too aggressive and could skew our understanding of the models' actual performance. We might need to consider a more sophisticated cleaning approach that can handle longer answers such as parsing the result and using some built in NLP libraries to extract the answer."
   ]
  },
  {
   "cell_type": "markdown",
   "id": "4bda2920",
   "metadata": {},
   "source": [
    "### 1.4 (3 pt)\n",
    "\n",
    "Now that our answer columns are nicely formatted, let's take a look at model performance:\n",
    "\n",
    "A. Both the `MMLU` dataframes and the language model score data frames have the columns `question_id`. For each of the language model score data frames, use an inner join operation with the `df_test` dataframe on the `question_id` column.\n",
    "\n",
    "B. Add a new column to each of the resulting dataframes called `correct`, that checks if the model's answer in `result` is the same as the expected answer in the column `answer`. Then, print the average score of each model."
   ]
  },
  {
   "cell_type": "code",
   "execution_count": 32,
   "id": "5cfcb814",
   "metadata": {},
   "outputs": [
    {
     "name": "stdout",
     "output_type": "stream",
     "text": [
      "Model X Average Score: 0.7633\n",
      "Model Y Average Score: 0.7411\n",
      "Model Z Average Score: 0.6569\n"
     ]
    }
   ],
   "source": [
    "# A\n",
    "# Step A: Inner join operation for each model\n",
    "df_x_merged = df_x_short.merge(df_test[['question_id', 'answer']], on='question_id', how='inner')\n",
    "df_y_merged = df_y_short.merge(df_test[['question_id', 'answer']], on='question_id', how='inner')\n",
    "df_z_merged = df_z_short.merge(df_test[['question_id', 'answer']], on='question_id', how='inner')\n",
    "\n",
    "# Step B: Add 'correct' column and calculate the average score\n",
    "def calculate_correct_column(df):\n",
    "    df['correct'] = df['clean_result'] == df['answer']\n",
    "    return df\n",
    "\n",
    "df_x_merged = calculate_correct_column(df_x_merged)\n",
    "df_y_merged = calculate_correct_column(df_y_merged)\n",
    "df_z_merged = calculate_correct_column(df_z_merged)\n",
    "\n",
    "# Now calculate and print the average score for each model\n",
    "avg_score_x = df_x_merged['correct'].mean()\n",
    "avg_score_y = df_y_merged['correct'].mean()\n",
    "avg_score_z = df_z_merged['correct'].mean()\n",
    "\n",
    "print(f\"Model X Average Score: {avg_score_x:.4f}\")\n",
    "print(f\"Model Y Average Score: {avg_score_y:.4f}\")\n",
    "print(f\"Model Z Average Score: {avg_score_z:.4f}\")\n"
   ]
  },
  {
   "cell_type": "code",
   "execution_count": 38,
   "id": "4814bb7f",
   "metadata": {},
   "outputs": [
    {
     "name": "stdout",
     "output_type": "stream",
     "text": [
      "Index(['question_id', 'result', 'clean_result', 'answer', 'correct'], dtype='object')\n",
      "question_id        0\n",
      "result             B\n",
      "clean_result       B\n",
      "answer             B\n",
      "correct         True\n",
      "Name: 0, dtype: object\n",
      "Index(['question_id', 'result', 'clean_result', 'answer', 'correct'], dtype='object')\n",
      "question_id             0\n",
      "result          Answer: D\n",
      "clean_result            D\n",
      "answer                  B\n",
      "correct             False\n",
      "Name: 0, dtype: object\n",
      "Index(['question_id', 'result', 'clean_result', 'answer', 'correct'], dtype='object')\n",
      "question_id        0\n",
      "result             B\n",
      "clean_result       B\n",
      "answer             B\n",
      "correct         True\n",
      "Name: 0, dtype: object\n"
     ]
    }
   ],
   "source": [
    "# B\n",
    "print(df_x_merged.columns)\n",
    "print(df_x_merged.iloc[0])\n",
    "print(df_y_merged.columns)\n",
    "print(df_y_merged.iloc[0])\n",
    "print(df_z_merged.columns)\n",
    "print(df_z_merged.iloc[0])"
   ]
  },
  {
   "cell_type": "markdown",
   "id": "474d719d",
   "metadata": {},
   "source": [
    "### 1.5 (5 pt)\n",
    "\n",
    "Hmmm, something doesn't seem quite right. Let's investigate how \"balanced\" this dataset is:\n",
    "\n",
    "A. For each of the 57 subjects in the MMLU, compare the number of questions answered by each model. Print the subjects for which there is a more than 10% difference.\n",
    "\n",
    "B. Propose and implement a reasonable way to rebalance the results. (e.g., while throwing away 100% of the results perfectly rebalances the results, it is not reasonable).\n",
    "\n",
    "C. Finally, print the updated accuracy on the rebalanced data.\n",
    "\n",
    "**hint:**:\n",
    "- (A) For a given subject, let model X and model Y have answered 181 and 200 questions respectively. You can consider this a 10% difference from the perspective of X, i.e., (200 - 181) / 181 > 0.10"
   ]
  },
  {
   "cell_type": "code",
   "execution_count": 53,
   "id": "1634b29a",
   "metadata": {},
   "outputs": [
    {
     "name": "stdout",
     "output_type": "stream",
     "text": [
      "Subjects with more than 10% difference between Model X and Model Y:\n",
      "subject\n",
      "formal logic         0.137615\n",
      "logical fallacies   -0.110390\n",
      "moral scenarios      0.170040\n",
      "Name: question_id, dtype: float64\n",
      "Subjects with more than 10% difference between Model Y and Model Z:\n",
      "subject\n",
      "college chemistry          -0.122449\n",
      "college computer science   -0.122449\n",
      "computer security          -0.102041\n",
      "medical genetics           -0.101010\n",
      "moral disputes             -0.171053\n",
      "moral scenarios            -0.100346\n",
      "Name: question_id, dtype: float64\n",
      "Subjects with more than 10% difference between Model X and Model Z:\n",
      "subject\n",
      "college chemistry          -0.113402\n",
      "college computer science   -0.131313\n",
      "moral disputes             -0.243243\n",
      "Name: question_id, dtype: float64\n"
     ]
    }
   ],
   "source": [
    "#A\n",
    "# Merge the model dataframes with df_test to get the 'subject' column\n",
    "df_x_merged_with_subject = df_x_merged.merge(df_test[['question_id', 'subject']], on='question_id', how='inner')\n",
    "df_y_merged_with_subject = df_y_merged.merge(df_test[['question_id', 'subject']], on='question_id', how='inner')\n",
    "df_z_merged_with_subject = df_z_merged.merge(df_test[['question_id', 'subject']], on='question_id', how='inner')\n",
    "\n",
    "# Group by subject and count the number of answers per model\n",
    "model_x_subject_counts = df_x_merged_with_subject.groupby('subject')['question_id'].count()\n",
    "model_y_subject_counts = df_y_merged_with_subject.groupby('subject')['question_id'].count()\n",
    "model_z_subject_counts = df_z_merged_with_subject.groupby('subject')['question_id'].count()\n",
    "\n",
    "# print(model_x_subject_counts)\n",
    "# print(\"--------\")\n",
    "# print(model_y_subject_counts)\n",
    "# print(\"--------\")\n",
    "# print(model_z_subject_counts)\n",
    "\n",
    "# Compare the counts and check for a more than 10% difference\n",
    "def find_imbalanced_subjects(model_counts_1, model_counts_2, model_name_1, model_name_2):\n",
    "    # Calculate the percentage difference\n",
    "    percentage_diff = (model_counts_2 - model_counts_1) / model_counts_1\n",
    "    \n",
    "    # Find subjects where the difference exceeds 10%\n",
    "    imbalanced_subjects = percentage_diff[percentage_diff.abs() > 0.10]\n",
    "    \n",
    "    # Print the imbalanced subjects\n",
    "    print(f\"Subjects with more than 10% difference between {model_name_1} and {model_name_2}:\")\n",
    "    print(imbalanced_subjects)\n",
    "    return imbalanced_subjects\n",
    "\n",
    "imbalanced_x_y = find_imbalanced_subjects(model_x_subject_counts, model_y_subject_counts, \"Model X\", \"Model Y\")\n",
    "imbalanced_y_z = find_imbalanced_subjects(model_y_subject_counts, model_z_subject_counts, \"Model Y\", \"Model Z\")\n",
    "imbalanced_x_z = find_imbalanced_subjects(model_x_subject_counts, model_z_subject_counts, \"Model X\", \"Model Z\")\n"
   ]
  },
  {
   "cell_type": "code",
   "execution_count": 46,
   "id": "a7cc11b7",
   "metadata": {},
   "outputs": [
    {
     "name": "stdout",
     "output_type": "stream",
     "text": [
      "Updated accuracy for Model X on rebalanced data: 0.7638\n",
      "Updated accuracy for Model Y on rebalanced data: 0.7413\n",
      "Updated accuracy for Model Z on rebalanced data: 0.6566\n"
     ]
    }
   ],
   "source": [
    "#B\n",
    "import numpy as np\n",
    "\n",
    "def rebalance_model_data(df, model_counts, target_counts):\n",
    "    \"\"\"\n",
    "    Downsamples a model's answers to match the target count.\n",
    "    \"\"\"\n",
    "    rebalanced_df = pd.DataFrame()\n",
    "\n",
    "    for subject in df['subject'].unique():\n",
    "        subject_df = df[df['subject'] == subject]\n",
    "        model_count = model_counts[subject]\n",
    "        target_count = target_counts[subject]\n",
    "        \n",
    "        # If the model has more answers than the target, downsample\n",
    "        if model_count > target_count:\n",
    "            downsampled_subject_df = subject_df.sample(n=target_count, random_state=42)\n",
    "        else:\n",
    "            downsampled_subject_df = subject_df\n",
    "\n",
    "        rebalanced_df = pd.concat([rebalanced_df, downsampled_subject_df])\n",
    "    \n",
    "    return rebalanced_df\n",
    "\n",
    "# Calculate the target counts: the minimum number of answers across models for each subject\n",
    "target_counts_x_y = model_x_subject_counts.combine(model_y_subject_counts, min)\n",
    "target_counts_y_z = model_y_subject_counts.combine(model_z_subject_counts, min)\n",
    "target_counts_x_z = model_x_subject_counts.combine(model_z_subject_counts, min)\n",
    "\n",
    "# Rebalance each model\n",
    "df_x_rebalanced = rebalance_model_data(df_x_merged_with_subject, model_x_subject_counts, target_counts_x_y)\n",
    "df_y_rebalanced = rebalance_model_data(df_y_merged_with_subject, model_y_subject_counts, target_counts_x_y)\n",
    "df_z_rebalanced = rebalance_model_data(df_z_merged_with_subject, model_z_subject_counts, target_counts_x_z)\n",
    "\n",
    "# Part C: Calculate and print the updated accuracy on the rebalanced data\n",
    "def calculate_accuracy(df, model_name):\n",
    "    df['correct'] = df['clean_result'] == df['answer']\n",
    "    accuracy = df['correct'].mean()\n",
    "    print(f\"Updated accuracy for {model_name} on rebalanced data: {accuracy:.4f}\")\n",
    "\n",
    "calculate_accuracy(df_x_rebalanced, \"Model X\")\n",
    "calculate_accuracy(df_y_rebalanced, \"Model Y\")\n",
    "calculate_accuracy(df_z_rebalanced, \"Model Z\")\n"
   ]
  },
  {
   "cell_type": "code",
   "execution_count": 5,
   "id": "e558c3f8",
   "metadata": {},
   "outputs": [],
   "source": [
    "#C"
   ]
  },
  {
   "cell_type": "markdown",
   "id": "1ae0547c",
   "metadata": {},
   "source": [
    "## Task 2 (26 points): What do you mean A > D > B > C...?\n",
    "\n",
    "Nice work! Having successfully inspected, cleaned, and rebalanced the provided data, you head over to director of the government's FIETS project operating under the code name Geronimo. He is happy with your work so far, but worried that the sloppy intern might have done more undetected damage. To be sure, he orders a new set of evaluations of all models on both MMLU and another dataset.\n",
    "\n",
    "After cleaning up and rebalancing, you are left with the concatenated score files in the second folder `task_2`:\n",
    "```\n",
    "task_2/\n",
    "│\n",
    "└── lm_scores_mmlu.csv\n",
    "│\n",
    "└── lm_scores_other.csv\n",
    "```\n",
    "\n",
    "Each has a new column called `model_name`, which is one of `X, Y` or `Z`.\n",
    "\n",
    "\n",
    "\n",
    "_NOTE: **only** use data from `task_2` and `task_2_5` for this assignment! The values in `lm_scores_mmlu.csv` will NOT be the same as the dataframes you finished in task 1. This is due to \"randomness\" or \"temperature\" in language model inference. This can slightly shift around generative results. (Conveniently: it also ensures any mistakes made in Task 1 don't propogate further ;) )_"
   ]
  },
  {
   "cell_type": "code",
   "execution_count": 72,
   "id": "2067ebe2",
   "metadata": {},
   "outputs": [],
   "source": [
    "# PROVIDED CODE\n",
    "df_mmlu = pd.read_csv('data/task_2/lm_scores_mmlu.csv')\n",
    "df_other = pd.read_csv('data/task_2/lm_scores_other.csv')"
   ]
  },
  {
   "cell_type": "code",
   "execution_count": 105,
   "id": "831642e8",
   "metadata": {},
   "outputs": [
    {
     "name": "stdout",
     "output_type": "stream",
     "text": [
      "result                                                         B\n",
      "question_id                                                    0\n",
      "question       Find the degree for the given field extension ...\n",
      "A                                                              0\n",
      "B                                                              4\n",
      "C                                                              2\n",
      "D                                                              6\n",
      "answer                                                         B\n",
      "subject                                         abstract algebra\n",
      "correct                                                     True\n",
      "model_name                                                     X\n",
      "Name: 0, dtype: object\n",
      "385968\n",
      "result                                                         B\n",
      "question_id                                                    0\n",
      "question       Which factor will most likely cause a person t...\n",
      "A                           a leg muscle relaxing after exercise\n",
      "B                      a bacterial population in the bloodstream\n",
      "C                            several viral particles on the skin\n",
      "D                    carbohydrates being digested in the stomach\n",
      "answer                                                         B\n",
      "correct                                                     True\n",
      "model_name                                                     X\n",
      "Name: 0, dtype: object\n",
      "112770\n"
     ]
    }
   ],
   "source": [
    "print(df_mmlu.iloc[0])\n",
    "print(df_mmlu.size)\n",
    "print(df_other.iloc[0])\n",
    "print(df_other.size)"
   ]
  },
  {
   "cell_type": "markdown",
   "id": "d97ed869",
   "metadata": {},
   "source": [
    "### 2.1 (4 pt)\n",
    "\n",
    "Let's explore the new results:\n",
    "\n",
    "A. Compute the mean accuracy and standard errors of each model on both datasets and print the results.\n",
    "\n",
    "B. Then, show your results in a bar plot using standard errors with a 95% confidence interval around the mean. Make sure the plot is easy to read and well annotated.\n",
    "\n",
    "C. /Discuss:/ the plot you created: (i) can you say that one of the models is the best? (ii) is there anything that seems odd?"
   ]
  },
  {
   "cell_type": "code",
   "execution_count": 55,
   "id": "b69b5615",
   "metadata": {},
   "outputs": [
    {
     "name": "stdout",
     "output_type": "stream",
     "text": [
      "\n",
      "MMLU Dataset:\n",
      "     mean      se        n\n",
      "X  0.7436  0.0040  11696.0\n",
      "Y  0.7615  0.0039  11696.0\n",
      "Z  0.6560  0.0044  11696.0\n",
      "\n",
      "Other Dataset:\n",
      "     mean      se       n\n",
      "X  0.7880  0.0067  3759.0\n",
      "Y  0.7209  0.0073  3759.0\n",
      "Z  0.6717  0.0077  3759.0\n"
     ]
    }
   ],
   "source": [
    "#A\n",
    "# Function to calculate mean accuracy and standard error\n",
    "def calc_stats(df, model_name):\n",
    "    subset = df[df['model_name'] == model_name]\n",
    "    n = len(subset)\n",
    "    mean = subset['correct'].mean()\n",
    "    se = subset['correct'].std() / np.sqrt(n)\n",
    "    return pd.Series({'mean': mean, 'se': se, 'n': n})\n",
    "\n",
    "# Calculate stats for both datasets\n",
    "results = {}\n",
    "for dataset, df in [('MMLU', df_mmlu), ('Other', df_other)]:\n",
    "    results[dataset] = pd.DataFrame([\n",
    "        calc_stats(df, 'X'),\n",
    "        calc_stats(df, 'Y'),\n",
    "        calc_stats(df, 'Z')\n",
    "    ], index=['X', 'Y', 'Z'])\n",
    "\n",
    "# Print results\n",
    "for dataset, stats in results.items():\n",
    "    print(f\"\\n{dataset} Dataset:\")\n",
    "    print(stats.round(4))"
   ]
  },
  {
   "cell_type": "code",
   "execution_count": 60,
   "id": "7e3140e2",
   "metadata": {},
   "outputs": [
    {
     "name": "stdout",
     "output_type": "stream",
     "text": [
      "Mean Accuracy and Standard Error for Each Model:\n",
      "\n",
      "  model_name      mean       sem dataset\n",
      "0          X  0.743588  0.004038    MMLU\n",
      "1          Y  0.761542  0.003941    MMLU\n",
      "2          Z  0.655951  0.004393    MMLU\n",
      "0          X  0.787976  0.006668   Other\n",
      "1          Y  0.720936  0.007317   Other\n",
      "2          Z  0.671721  0.007660   Other\n"
     ]
    }
   ],
   "source": [
    "# Load the datasets\n",
    "df_mmlu = pd.read_csv('data/task_2/lm_scores_mmlu.csv')\n",
    "df_other = pd.read_csv('data/task_2/lm_scores_other.csv')\n",
    "\n",
    "# Function to compute mean and standard error for each model\n",
    "def compute_stats(df, dataset_name):\n",
    "    stats = df.groupby('model_name')['correct'].agg(['mean', 'sem'])\n",
    "    stats['dataset'] = dataset_name\n",
    "    return stats.reset_index()\n",
    "\n",
    "# Compute statistics for MMLU and Other datasets\n",
    "stats_mmlu = compute_stats(df_mmlu, 'MMLU')\n",
    "stats_other = compute_stats(df_other, 'Other')\n",
    "\n",
    "# Combine the results for plotting\n",
    "df_stats = pd.concat([stats_mmlu, stats_other])\n",
    "print(\"Mean Accuracy and Standard Error for Each Model:\\n\")\n",
    "print(df_stats)\n"
   ]
  },
  {
   "cell_type": "code",
   "execution_count": 67,
   "id": "c4a5bffc",
   "metadata": {},
   "outputs": [
    {
     "name": "stderr",
     "output_type": "stream",
     "text": [
      "/var/folders/zr/_gpdwfv15wg1y2f3ncx075880000gn/T/ipykernel_1359/3622632083.py:3: MatplotlibDeprecationWarning: The seaborn styles shipped by Matplotlib are deprecated since 3.6, as they no longer correspond to the styles shipped by seaborn. However, they will remain available as 'seaborn-v0_8-<style>'. Alternatively, directly use the seaborn API instead.\n",
      "  plt.style.use('seaborn')\n"
     ]
    },
    {
     "data": {
      "image/png": "[encoded data removed]",
      "text/plain": [
       "<Figure size 1000x600 with 1 Axes>"
      ]
     },
     "metadata": {},
     "output_type": "display_data"
    }
   ],
   "source": [
    "# Set figure size and style\n",
    "plt.figure(figsize=(10, 6))\n",
    "plt.style.use('seaborn')\n",
    "\n",
    "# Set up positions for bars\n",
    "models = ['X', 'Y', 'Z']\n",
    "x = np.arange(len(models))\n",
    "width = 0.35  # Width of the bars\n",
    "\n",
    "# Calculate 95% confidence intervals (1.96 * standard error)\n",
    "mmlu_ci = df_stats[df_stats['dataset'] == 'MMLU']['sem'] * 1.96\n",
    "other_ci = df_stats[df_stats['dataset'] == 'Other']['sem'] * 1.96\n",
    "\n",
    "# Create bars\n",
    "plt.bar(x - width/2, \n",
    "        df_stats[df_stats['dataset'] == 'MMLU']['mean'],\n",
    "        width,\n",
    "        label='MMLU',\n",
    "        color='#8884d8',\n",
    "        yerr=mmlu_ci,\n",
    "        capsize=5)\n",
    "\n",
    "plt.bar(x + width/2,\n",
    "        df_stats[df_stats['dataset'] == 'Other']['mean'],\n",
    "        width,\n",
    "        label='Other',\n",
    "        color='#82ca9d',\n",
    "        yerr=other_ci,\n",
    "        capsize=5)\n",
    "\n",
    "# Customize the plot\n",
    "plt.ylabel('Accuracy')\n",
    "plt.title('Model Performance Comparison')\n",
    "plt.xticks(x, models)\n",
    "plt.xlabel('Models')\n",
    "\n",
    "# Format y-axis as percentages\n",
    "plt.gca().yaxis.set_major_formatter(plt.FuncFormatter(lambda y, _: '{:.0%}'.format(y)))\n",
    "\n",
    "# Set y-axis limits to focus on relevant range\n",
    "plt.ylim(0.6, 0.85)\n",
    "\n",
    "# Add grid for better readability\n",
    "plt.grid(True, axis='y', linestyle='--', alpha=0.7)\n",
    "\n",
    "# Add legend\n",
    "plt.legend()\n",
    "\n",
    "# Adjust layout to prevent label cutoff\n",
    "plt.tight_layout()\n",
    "\n",
    "# Show plot\n",
    "plt.show()"
   ]
  },
  {
   "cell_type": "code",
   "execution_count": 62,
   "id": "7819f70c",
   "metadata": {},
   "outputs": [],
   "source": [
    "#C ????"
   ]
  },
  {
   "cell_type": "markdown",
   "id": "5587c824",
   "metadata": {},
   "source": [
    "### 2.2 (5 pt)\n",
    "\n",
    "Geronimo has assured you that both datasets contain questions of similar difficulty, so, what could be going on here?\n",
    "\n",
    "A. What is the distribution of correct answers (A, B, C, D) for each dataset? Create a bar chart to visualize this.\n",
    "\n",
    "B. Perform a chi-square test at $\\alpha = 0.05$, of independence to determine if there's a significant difference in the distribution of correct answers between the two datasets. What do you conclude?\n",
    "\n",
    "**hints**:\n",
    "- for (A), keep in mind that df_mmlu and df_other contain the results of all models, i.e., the `question_id` column is duplicated.\n",
    "- for (A), take care to clearly annotate the bar chart, e.g., title, y-label, legend.\n",
    "- for (B), clearly state the null hypothesis and alternative hypothesis\n",
    "- use the `chi2_contingency` function from `scipy.stats`\n",
    "- format your results from answer (A) as a 2D array"
   ]
  },
  {
   "cell_type": "code",
   "execution_count": 103,
   "id": "a28b1e1a",
   "metadata": {},
   "outputs": [
    {
     "data": {
      "image/png": "[encoded data removed]",
      "text/plain": [
       "<Figure size 800x600 with 1 Axes>"
      ]
     },
     "metadata": {},
     "output_type": "display_data"
    }
   ],
   "source": [
    "# Filter for correct answers and keep the first instance of each question_id\n",
    "mmlu_correct = df_mmlu[df_mmlu['correct'] == True].drop_duplicates('question_id')\n",
    "other_correct = df_other[df_other['correct'] == True].drop_duplicates('question_id')\n",
    "\n",
    "# Count the distribution of correct answers\n",
    "mmlu_counts = mmlu_correct['answer'].value_counts().rename_axis('answer').reset_index(name='count')\n",
    "mmlu_counts['dataset'] = 'MMLU'\n",
    "\n",
    "other_counts = other_correct['answer'].value_counts().rename_axis('answer').reset_index(name='count')\n",
    "other_counts['dataset'] = 'Other'\n",
    "\n",
    "# Combine both datasets for easier plotting\n",
    "combined_counts = pd.concat([mmlu_counts, other_counts])\n",
    "\n",
    "# Plot setup\n",
    "plt.figure(figsize=(8, 6))\n",
    "sns.barplot(data=combined_counts, x='answer', y='count', hue='dataset', palette='tab10', edgecolor='black')\n",
    "\n",
    "# Titles and labels\n",
    "plt.title('Distribution of Correct Answers (A, B, C, D) per Dataset (Unique Questions Only)')\n",
    "plt.ylabel('Count')\n",
    "plt.xlabel('Answer Choice')\n",
    "plt.legend(title='Dataset', loc='upper right')\n",
    "plt.grid(axis='y', linestyle='--', alpha=0.7)\n",
    "plt.show()\n"
   ]
  },
  {
   "cell_type": "code",
   "execution_count": 110,
   "id": "0c461f94",
   "metadata": {},
   "outputs": [
    {
     "name": "stdout",
     "output_type": "stream",
     "text": [
      "Chi-square Statistic: 623.1753\n",
      "P-value: 0.0000\n",
      "Degrees of Freedom: 3\n",
      "Expected Frequencies: \n",
      "[[2027.25518331 3000.82143092 3182.98716514 3272.93622063]\n",
      " [ 654.74481669  969.17856908 1028.01283486 1057.06377937]]\n",
      "Reject the null hypothesis: There is a significant difference in the distribution of correct answers between datasets.\n"
     ]
    }
   ],
   "source": [
    "from scipy.stats import chi2_contingency\n",
    "\n",
    "# Create contingency table\n",
    "contingency_table = pd.crosstab(\n",
    "    combined_counts['dataset'], combined_counts['answer'], values=combined_counts['count'], aggfunc='sum'\n",
    ").fillna(0).to_numpy()\n",
    "\n",
    "# Chi-square test\n",
    "chi2_stat, p_value, dof, expected = chi2_contingency(contingency_table)\n",
    "\n",
    "# Output results\n",
    "alpha = 0.05\n",
    "print(f\"Chi-square Statistic: {chi2_stat:.4f}\")\n",
    "print(f\"P-value: {p_value:.4f}\")\n",
    "print(f\"Degrees of Freedom: {dof}\")\n",
    "print(f\"Expected Frequencies: \\n{expected}\")\n",
    "\n",
    "if p_value < alpha:\n",
    "    print(\"Reject the null hypothesis: There is a significant difference in the distribution of correct answers between datasets.\")\n",
    "else:\n",
    "    print(\"Fail to reject the null hypothesis: There is no significant difference in the distribution of correct answers between datasets.\")\n"
   ]
  },
  {
   "cell_type": "code",
   "execution_count": 68,
   "id": "b3149f3d",
   "metadata": {},
   "outputs": [
    {
     "data": {
      "image/png": "[encoded data removed]",
      "text/plain": [
       "<Figure size 1000x600 with 1 Axes>"
      ]
     },
     "metadata": {},
     "output_type": "display_data"
    },
    {
     "name": "stdout",
     "output_type": "stream",
     "text": [
      "\n",
      "MMLU Answer Distribution:\n",
      "D    3739\n",
      "C    3403\n",
      "B    2943\n",
      "A    1611\n",
      "Name: answer, dtype: int64\n",
      "\n",
      "Other Answer Distribution:\n",
      "B    1116\n",
      "A    1078\n",
      "C     924\n",
      "D     641\n",
      "Name: answer, dtype: int64\n"
     ]
    }
   ],
   "source": [
    "# Get unique questions and their correct answers for each dataset\n",
    "mmlu_answers = df_mmlu.drop_duplicates('question_id')['answer'].value_counts()\n",
    "other_answers = df_other.drop_duplicates('question_id')['answer'].value_counts()\n",
    "\n",
    "# Create the plot\n",
    "plt.figure(figsize=(10, 6))\n",
    "\n",
    "# Set bar positions\n",
    "labels = ['A', 'B', 'C', 'D']\n",
    "x = np.arange(len(labels))\n",
    "width = 0.35\n",
    "\n",
    "# Create bars\n",
    "plt.bar(x - width/2, [mmlu_answers.get(label, 0) for label in labels], \n",
    "        width, label='MMLU', color='#8884d8')\n",
    "plt.bar(x + width/2, [other_answers.get(label, 0) for label in labels], \n",
    "        width, label='Other', color='#82ca9d')\n",
    "\n",
    "# Customize plot\n",
    "plt.ylabel('Count')\n",
    "plt.xlabel('Correct Answer')\n",
    "plt.title('Distribution of Correct Answers in Each Dataset')\n",
    "plt.xticks(x, labels)\n",
    "plt.legend()\n",
    "plt.grid(True, axis='y', linestyle='--', alpha=0.7)\n",
    "plt.tight_layout()\n",
    "plt.show()\n",
    "\n",
    "# Print the distributions\n",
    "print(\"\\nMMLU Answer Distribution:\")\n",
    "print(mmlu_answers)\n",
    "print(\"\\nOther Answer Distribution:\")\n",
    "print(other_answers)"
   ]
  },
  {
   "cell_type": "markdown",
   "id": "c50f875f",
   "metadata": {},
   "source": [
    "### 2.3 (7 pt)\n",
    "\n",
    "Let's dive in deeper:\n",
    "\n",
    "A. What is language model X's mean accuracy conditioned on the four answer options for each dataset?\n",
    "\n",
    "B. Compare LM X's performance when the correct answer is \"A\" between the two datasets. Use a T-test with CI = 0.95. What do you conclude?\n",
    "\n",
    "C. Compare LM X's performance when the correct answer is \"A\" vs. \"C or D\" for each dataset. Use a T-test with CI = 0.95. What do you conclude?"
   ]
  },
  {
   "cell_type": "code",
   "execution_count": 121,
   "id": "f2b265e3",
   "metadata": {},
   "outputs": [
    {
     "name": "stdout",
     "output_type": "stream",
     "text": [
      "0.6335918694838192\n",
      "Model X Mean Accuracy Conditioned on Answer Options:\n",
      "\n",
      "MMLU Dataset:\n",
      "answer\n",
      "A    0.9727\n",
      "B    0.7992\n",
      "C    0.7079\n",
      "D    0.6336\n",
      "Name: correct, dtype: float64\n",
      "\n",
      "Other Dataset:\n",
      "answer\n",
      "A    0.9740\n",
      "B    0.8065\n",
      "C    0.6764\n",
      "D    0.6037\n",
      "Name: correct, dtype: float64\n"
     ]
    }
   ],
   "source": [
    "#A Compute the mean accuracy where the answer is correct.\n",
    "def compute_conditional_accuracy(df, model_name):\n",
    "    # Filter for the specific model\n",
    "    df_filtered = df[df['model_name'] == model_name]\n",
    "    # Group by answer choice and compute the conditional mean accuracy\n",
    "    conditioned_accuracy = df_filtered.groupby('answer')['correct'].mean()\n",
    "    \n",
    "    return conditioned_accuracy\n",
    "\n",
    "# Compute for both datasets\n",
    "x_mmlu_accuracy = compute_conditional_accuracy(df_mmlu, 'X')\n",
    "x_other_accuracy = compute_conditional_accuracy(df_other, 'X')\n",
    "\n",
    "\n",
    "# Print results\n",
    "print(\"Model X Mean Accuracy Conditioned on Answer Options:\")\n",
    "print(\"\\nMMLU Dataset:\")\n",
    "print(x_mmlu_accuracy.round(4))\n",
    "\n",
    "print(\"\\nOther Dataset:\")\n",
    "print(x_other_accuracy.round(4))\n"
   ]
  },
  {
   "cell_type": "code",
   "execution_count": 130,
   "id": "1e31fdd8",
   "metadata": {},
   "outputs": [
    {
     "name": "stdout",
     "output_type": "stream",
     "text": [
      "MMLU Answer 'A' correct values count: 1611\n",
      "Other Answer 'A' correct values count: 1078\n",
      "\n",
      "T-statistic: -0.2116\n",
      "P-value: 0.8324\n",
      "Fail to reject the null hypothesis: No significant difference in LM X's performance on answer 'A' between datasets.\n"
     ]
    }
   ],
   "source": [
    "#B\n",
    "# Null Hypothesis (H₀): The mean accuracy for answer \"A\" in the MMLU and Other datasets is the same.\n",
    "# Alternative Hypothesis (H₁): The mean accuracy for answer \"A\" differs between the datasets.\n",
    "from scipy.stats import ttest_ind\n",
    "\n",
    "# Filter for LM X and answer \"A\" in both datasets\n",
    "x_mmlu_a = df_mmlu[(df_mmlu['model_name'] == 'X') & (df_mmlu['answer'] == 'A')]['correct']\n",
    "x_other_a = df_other[(df_other['model_name'] == 'X') & (df_other['answer'] == 'A')]['correct']\n",
    "\n",
    "# Ensure both datasets have valid non-empty arrays\n",
    "print(f\"MMLU Answer 'A' correct values count: {len(x_mmlu_a)}\")\n",
    "print(f\"Other Answer 'A' correct values count: {len(x_other_a)}\")\n",
    "\n",
    "# Perform the T-test\n",
    "t_stat, p_value = ttest_ind(x_mmlu_a, x_other_a, equal_var=False)\n",
    "\n",
    "# Confidence Interval\n",
    "alpha = 0.05\n",
    "print(f\"\\nT-statistic: {t_stat:.4f}\")\n",
    "print(f\"P-value: {p_value:.4f}\")\n",
    "\n",
    "if p_value < alpha:\n",
    "    print(\"Reject the null hypothesis: There is a significant difference in LM X's performance on answer 'A' between datasets.\")\n",
    "else:\n",
    "    print(\"Fail to reject the null hypothesis: No significant difference in LM X's performance on answer 'A' between datasets.\")\n"
   ]
  },
  {
   "cell_type": "code",
   "execution_count": 129,
   "id": "8f0ecae0",
   "metadata": {},
   "outputs": [
    {
     "name": "stdout",
     "output_type": "stream",
     "text": [
      "\n",
      "Dataset: MMLU\n",
      "T-statistic: 44.0588\n",
      "P-value: 0.0000\n",
      "Reject the null hypothesis: Significant difference between LM X's performance on 'A' vs. 'C or D'.\n",
      "\n",
      "Dataset: Other\n",
      "T-statistic: 25.1395\n",
      "P-value: 0.0000\n",
      "Reject the null hypothesis: Significant difference between LM X's performance on 'A' vs. 'C or D'.\n"
     ]
    }
   ],
   "source": [
    "#C\n",
    "# Null Hypothesis (H₀): The mean accuracy for answer \"A\" in the MMLU and Other datasets is the same.\n",
    "# Alternative Hypothesis (H₁): The mean accuracy for answer \"A\" differs between the datasets.\n",
    "\n",
    "# Filter raw correct values for LM X and answer categories\n",
    "mmlu_a = df_mmlu[(df_mmlu['model_name'] == 'X') & (df_mmlu['answer'] == 'A')]['correct']\n",
    "mmlu_cd = df_mmlu[(df_mmlu['model_name'] == 'X') & (df_mmlu['answer'].isin(['C', 'D']))]['correct']\n",
    "\n",
    "other_a = df_other[(df_other['model_name'] == 'X') & (df_other['answer'] == 'A')]['correct']\n",
    "other_cd = df_other[(df_other['model_name'] == 'X') & (df_other['answer'].isin(['C', 'D']))]['correct']\n",
    "\n",
    "# Helper function to perform the t-test\n",
    "def perform_t_test(label, data_a, data_cd):\n",
    "    t_stat, p_value = ttest_ind(data_a, data_cd, equal_var=False)\n",
    "    print(f\"\\nDataset: {label}\")\n",
    "    print(f\"T-statistic: {t_stat:.4f}\")\n",
    "    print(f\"P-value: {p_value:.4f}\")\n",
    "    if p_value < 0.05:\n",
    "        print(\"Reject the null hypothesis: Significant difference between LM X's performance on 'A' vs. 'C or D'.\")\n",
    "    else:\n",
    "        print(\"Fail to reject the null hypothesis: No significant difference between LM X's performance on 'A' vs. 'C or D'.\")\n",
    "\n",
    "# Perform T-tests for both datasets\n",
    "perform_t_test(\"MMLU\", mmlu_a, mmlu_cd)\n",
    "perform_t_test(\"Other\", other_a, other_cd)\n"
   ]
  },
  {
   "cell_type": "markdown",
   "id": "2e1d7754",
   "metadata": {},
   "source": [
    "### 2.4 (2 pt)\n",
    "\n",
    "What an intriguing finding! \n",
    "\n",
    "A. Print the mean accuracies conditioned on the correct answer for all LMs for each dataset.\n",
    "\n",
    "B. /Discuss:/ What do you observe?"
   ]
  },
  {
   "cell_type": "code",
   "execution_count": 131,
   "id": "77801937",
   "metadata": {
    "scrolled": true
   },
   "outputs": [
    {
     "name": "stdout",
     "output_type": "stream",
     "text": [
      "\n",
      "Mean Accuracies Conditioned on Correct Answer for MMLU Dataset:\n",
      "answer           A       B       C       D\n",
      "model_name                                \n",
      "X           0.9727  0.7992  0.7079  0.6336\n",
      "Y           0.6238  0.6881  0.7335  0.9043\n",
      "Z           0.6431  0.6412  0.6691  0.6611\n",
      "\n",
      "Mean Accuracies Conditioned on Correct Answer for Other Dataset:\n",
      "answer           A       B       C       D\n",
      "model_name                                \n",
      "X           0.9740  0.8065  0.6764  0.6037\n",
      "Y           0.6252  0.6640  0.7630  0.9204\n",
      "Z           0.6809  0.6676  0.6623  0.6771\n"
     ]
    }
   ],
   "source": [
    "#A\n",
    "# Helper function to compute and display mean accuracies\n",
    "def compute_mean_accuracies(df, dataset_name):\n",
    "    grouped = df.groupby(['model_name', 'answer'])['correct'].mean().unstack()\n",
    "    print(f\"\\nMean Accuracies Conditioned on Correct Answer for {dataset_name} Dataset:\")\n",
    "    print(grouped.round(4))\n",
    "    return grouped\n",
    "\n",
    "# Compute mean accuracies for both datasets\n",
    "mmlu_means = compute_mean_accuracies(df_mmlu, \"MMLU\")\n",
    "other_means = compute_mean_accuracies(df_other, \"Other\")\n"
   ]
  },
  {
   "cell_type": "markdown",
   "id": "e812af06",
   "metadata": {},
   "source": [
    "B. /Discuss:/\n",
    "Within the same dataset, the distribution of correct answers for each option (A, B, C, D) is not evenly balanced. This implies that certain answer choices have a higher likelihood of being correct. Such an imbalance introduces an inherent bias that could unfairly favor models adept at predicting these frequent correct answers.\n",
    "This is particularly problematic for evaluating language models because their performance might not be solely reflective of their ability to generalize but rather influenced by this uneven distribution.\n",
    "\n",
    "The consistency across datasets supports the validity of comparing model performances between MMLU and Other datasets since the answer distribution bias seems similar.\n"
   ]
  },
  {
   "cell_type": "markdown",
   "id": "31947726",
   "metadata": {},
   "source": [
    "### 2.5 (2 pt)\n",
    "\n",
    "Concerned with your findings so far, you quickly consult with Geronimo. After thinking it over, Geronimo concludes that more tests are needed. He orders a second round of MMLU results. However, Geronimo thinks of the following twist: while keeping questions fixed, he randomly permutes the position of the correct answer. The new results can be found in the folder `data/task_2_5/`:\n",
    "```\n",
    "task_2_5/\n",
    "│\n",
    "└── lm_scores_mmlu_shuffle.csv\n",
    "```\n",
    "\n",
    "/Discuss:/ Why would Geronimo do this?"
   ]
  },
  {
   "cell_type": "markdown",
   "id": "ca1ffc90",
   "metadata": {},
   "source": [
    "B. /Discuss:/\n",
    "Geronimo shuffled the correct answer positions to test for positional biases in the models. By doing this, he ensures the models are selecting answers based on content rather than position. This also eliminates any uneven distribution of correct answers in the original dataset. If the models perform worse after shuffling, it suggests they were relying too much on the answer position, providing a more accurate measure of their true performance."
   ]
  },
  {
   "cell_type": "markdown",
   "id": "bb158adf",
   "metadata": {},
   "source": [
    "### 2.6 (4 pt)\n",
    "\n",
    "Increasingly sceptical of the language models' performance, you read up on proper testing practices. You stumble upon the concept of [test-rested stability](https://en.wikipedia.org/wiki/Repeatability), which roughtly states that:\n",
    "\n",
    "\"_Measurements taken by a single person or instrument on the same item, under the same conditions, and in a short period of time, should have the same results._\"\n",
    "\n",
    "In our case, we would assume an LM would have the same performance on a given question regardless of the correct answer position. One way of testing this is by using the following metric:\n",
    "\n",
    "$$\\text{test-retest metric} = \\frac{1}{N}\\sum_{i=1}^N \\frac{1}{M}\\sum_{j=1}^M c^i_0 c_j^i,$$\n",
    "\n",
    "where $c^i_0 \\in \\{0, 1\\}$ indicates whether the model answers the $i^{\\text{th}}$ question correctly (1 if correct, 0 if incorrect). $c_j^i$ indicates whether the model answers the $i^{\\text{th}}$ question correctly in the $j^{\\text{th}}$ shuffled version of the answer label content. Finally, $M$ is the total number of shuffles and $N$ is the dataset size.\n",
    "\n",
    "Task: compute the test-retest metric for each language model using the original `lm_scores_mmlu.csv` file and the new `lm_scores_mmlu_shuffle.csv` file. Using a bar plot, visualize your results by comparing the accuracy of the original `lm_scores_mmlu.csv` and the test-retest scores.\n",
    "\n",
    "**hints**\n",
    "- what is $M$ in our case?\n",
    "\n",
    "(bonus: no points, but so much sweet, sweet knowledge - check out [the following article](https://arxiv.org/pdf/2406.19470v1))"
   ]
  },
  {
   "cell_type": "code",
   "execution_count": 132,
   "id": "46ce6153",
   "metadata": {},
   "outputs": [
    {
     "name": "stdout",
     "output_type": "stream",
     "text": [
      "       question_id model_name  correct_original  correct_shuffled\n",
      "0                0          X              True              True\n",
      "1                1          X              True              True\n",
      "2                2          X              True              True\n",
      "3                3          X              True              True\n",
      "4                7          X              True              True\n",
      "...            ...        ...               ...               ...\n",
      "35083        14037          Z              True              True\n",
      "35084        14038          Z              True              True\n",
      "35085        14039          Z              True              True\n",
      "35086        14040          Z              True              True\n",
      "35087        14041          Z              True             False\n",
      "\n",
      "[35088 rows x 4 columns]\n"
     ]
    },
    {
     "data": {
      "image/png": "[encoded data removed]",
      "text/plain": [
       "<Figure size 800x500 with 1 Axes>"
      ]
     },
     "metadata": {},
     "output_type": "display_data"
    }
   ],
   "source": [
    "#fancy code\n",
    "import matplotlib.pyplot as plt\n",
    "\n",
    "# Load the datasets\n",
    "df_mmlu = pd.read_csv('data/task_2/lm_scores_mmlu.csv')\n",
    "df_mmlu_shuffle = pd.read_csv('data/task_2_5/lm_scores_mmlu_shuffle.csv')\n",
    "\n",
    "# Ensure datasets are aligned by question_id and model_name\n",
    "merged_df = pd.merge(\n",
    "    df_mmlu[['question_id', 'model_name', 'correct']],\n",
    "    df_mmlu_shuffle[['question_id', 'model_name', 'correct']],\n",
    "    on=['question_id', 'model_name'],\n",
    "    suffixes=('_original', '_shuffled')\n",
    ")\n",
    "\n",
    "print(merged_df)\n",
    "\n",
    "# Compute the test-retest metric for each model\n",
    "test_retest_scores = merged_df.groupby('model_name').apply(\n",
    "    lambda group: np.mean(group['correct_original'] == group['correct_shuffled'])\n",
    ")\n",
    "\n",
    "# Compute original accuracy for comparison\n",
    "original_accuracy = df_mmlu.groupby('model_name')['correct'].mean()\n",
    "\n",
    "# Combine original and test-retest scores into a DataFrame\n",
    "results_df = pd.DataFrame({\n",
    "    'Original Accuracy': original_accuracy,\n",
    "    'Test-Retest Metric': test_retest_scores\n",
    "}).reset_index()\n",
    "\n",
    "# Plot the results\n",
    "fig, ax = plt.subplots(figsize=(8, 5))\n",
    "bar_width = 0.4\n",
    "index = np.arange(len(results_df))\n",
    "\n",
    "# Bar plot for original accuracy and test-retest metric\n",
    "plt.bar(index - bar_width / 2, results_df['Original Accuracy'], bar_width, label='Original Accuracy')\n",
    "plt.bar(index + bar_width / 2, results_df['Test-Retest Metric'], bar_width, label='Test-Retest Metric')\n",
    "\n",
    "# Annotate plot\n",
    "plt.xlabel('Language Model')\n",
    "plt.ylabel('Accuracy')\n",
    "plt.title('Original Accuracy vs Test-Retest Metric for LM Models')\n",
    "plt.xticks(index, results_df['model_name'])\n",
    "plt.legend()\n",
    "\n",
    "plt.show()"
   ]
  },
  {
   "cell_type": "markdown",
   "id": "71343706",
   "metadata": {},
   "source": [
    "The variation between the original and test-retest accuracies highlights a potential weakness in the models' robustness when the order of answers changes."
   ]
  },
  {
   "cell_type": "markdown",
   "id": "62d52d93",
   "metadata": {},
   "source": [
    "### 2.7 (2 pt)\n",
    "\n",
    "A. Using the unshuffled data: For each LM, print the distribution of the answers they give as well as the accuracy conditioned on the answer they give.\n",
    "\n",
    "B. /Discuss:/ Describe what you observe\n",
    "\n",
    "[bonus: not scored, but again _that sweet, sweet knowledge_] Could you think of a plausible explanation?"
   ]
  },
  {
   "cell_type": "code",
   "execution_count": 133,
   "id": "579c30cf",
   "metadata": {},
   "outputs": [
    {
     "name": "stdout",
     "output_type": "stream",
     "text": [
      "Answer Distribution for each LM:\n",
      "result         A     B     C     D\n",
      "model_name                        \n",
      "X           4259  2659  2409  2369\n",
      "Y           1072  2256  3015  5353\n",
      "Z           2176  2885  3237  3398\n",
      "\n",
      "Accuracy Conditioned on the Answer Given for each LM:\n",
      "result             A         B         C         D\n",
      "model_name                                        \n",
      "X           0.367927  0.884543  1.000000  1.000000\n",
      "Y           0.937500  0.897606  0.827861  0.631608\n",
      "Z           0.476103  0.654073  0.703429  0.727487\n"
     ]
    }
   ],
   "source": [
    "#A\n",
    "# Group by model_name and result to compute the distribution of answers and accuracy\n",
    "answer_distribution = df_mmlu.groupby(['model_name', 'result']).size().unstack().fillna(0)\n",
    "\n",
    "# Accuracy conditioned on answer given\n",
    "accuracy_conditioned = (\n",
    "    df_mmlu.groupby(['model_name', 'result'])['correct'].mean().unstack().fillna(0)\n",
    ")\n",
    "\n",
    "print(\"Answer Distribution for each LM:\")\n",
    "print(answer_distribution)\n",
    "\n",
    "print(\"\\nAccuracy Conditioned on the Answer Given for each LM:\")\n",
    "print(accuracy_conditioned)\n"
   ]
  },
  {
   "cell_type": "markdown",
   "id": "e9b4c2e8",
   "metadata": {},
   "source": [
    "B. /Discuss:/\n",
    "The clear inconsistencies in answer distribution and accuracy across models highlight potential biases. Model X's perfect accuracy on \"C\" and \"D\" is suspicious and may indicate some deterministic behavior rather than genuine reasoning. Model Y's bias toward \"D\" combined with lower accuracy for that choice further suggests poor calibration. Model Z is relatively more stable but still shows uneven performance.\n"
   ]
  },
  {
   "cell_type": "markdown",
   "id": "2d45a77b",
   "metadata": {},
   "source": [
    "## Task 3 (16 points): What do Questions and Answers look like for a Language Model?\n",
    "\n",
    "While you feel pretty good about the tests you conducted so far, something still bothers you: what if the language models don't see the data like you do? Suddenly, you receive a phone call from a wise AI sage based in Maastricht named Yodata:\n",
    "\n",
    "```\n",
    "\"Hmmm, correct you are, jonge padawan, to question how the wereld is seen by large language models! Simple 'text,' it is not, nee nee nee! Characters and words, the way of gewone humans, this is not, heh heh heh.\n",
    "\n",
    "'Tokens,' they use, ja! Mysterious and powerful, these tokens are. Expand our vocabulary, they do, beyond the simple 'a to Z.' Chunky blocks of text, they become, yes! 'Hello world,' a simple phrase it may seem. But to a language model, '[24912, 2375]' it might appear, hmm? Verwarrend, it is!\n",
    "\n",
    "Wise, it would be, to explore these MMLU data points through the eyes of a language model, you think? Yes, yes! Much to learn, there is. The ways of the tokens, understand you must, if truly comprehend the great LMs, you wish to.\n",
    "\n",
    "Meditate on this, you should. The force of natural language processing, strong it is. But geduld, you must have, my jonge padawan. For only through great study and contemplation, will the mysteries of the tokens reveal themselves to you, they will. Ja, hmmm!\"\n",
    "```\n",
    "\n",
    "Admittingly, Yodata at times speaks in riddles... However, he was explaining a crucial aspect of modern LMs called [Tokenization](https://learn.microsoft.com/en-us/dotnet/ai/conceptual/understanding-tokens):\n",
    "\n",
    "\n",
    "“Tokens are words, character sets, or combinations of words and punctuation that are used by [language models (LMs)] to decompose text into. Tokenization is the first step in training”\n",
    "\n",
    "Instead of characters, LMs process natural language using “tokens”. While this is useful for a number of reasons, it does at times introduce some “unintuitive” behavior…"
   ]
  },
  {
   "cell_type": "code",
   "execution_count": 14,
   "id": "001c4c53",
   "metadata": {},
   "outputs": [
    {
     "ename": "KeyboardInterrupt",
     "evalue": "",
     "output_type": "error",
     "traceback": [
      "\u001b[0;31m---------------------------------------------------------------------------\u001b[0m",
      "\u001b[0;31mKeyboardInterrupt\u001b[0m                         Traceback (most recent call last)",
      "\u001b[0;32m<ipython-input-14-55e4d70d6b7a>\u001b[0m in \u001b[0;36m<module>\u001b[0;34m\u001b[0m\n\u001b[1;32m     16\u001b[0m \u001b[0;34m\u001b[0m\u001b[0m\n\u001b[1;32m     17\u001b[0m \u001b[0mexample_string\u001b[0m \u001b[0;34m=\u001b[0m \u001b[0;34m'hello world'\u001b[0m\u001b[0;34m\u001b[0m\u001b[0;34m\u001b[0m\u001b[0m\n\u001b[0;32m---> 18\u001b[0;31m \u001b[0mprint\u001b[0m\u001b[0;34m(\u001b[0m\u001b[0;34mf'humans see: \"{example_string}\" --> language models see: {tokenize_text(example_string)}'\u001b[0m\u001b[0;34m)\u001b[0m\u001b[0;34m\u001b[0m\u001b[0;34m\u001b[0m\u001b[0m\n\u001b[0m",
      "\u001b[0;32m<ipython-input-14-55e4d70d6b7a>\u001b[0m in \u001b[0;36mtokenize_text\u001b[0;34m(s)\u001b[0m\n\u001b[1;32m     11\u001b[0m \u001b[0;34m\u001b[0m\u001b[0m\n\u001b[1;32m     12\u001b[0m \u001b[0;32mdef\u001b[0m \u001b[0mtokenize_text\u001b[0m\u001b[0;34m(\u001b[0m\u001b[0ms\u001b[0m\u001b[0;34m)\u001b[0m\u001b[0;34m:\u001b[0m\u001b[0;34m\u001b[0m\u001b[0;34m\u001b[0m\u001b[0m\n\u001b[0;32m---> 13\u001b[0;31m     \u001b[0menc\u001b[0m \u001b[0;34m=\u001b[0m \u001b[0mtiktoken\u001b[0m\u001b[0;34m.\u001b[0m\u001b[0mencoding_for_model\u001b[0m\u001b[0;34m(\u001b[0m\u001b[0;34m'gpt-4o'\u001b[0m\u001b[0;34m)\u001b[0m\u001b[0;34m\u001b[0m\u001b[0;34m\u001b[0m\u001b[0m\n\u001b[0m\u001b[1;32m     14\u001b[0m     \u001b[0mtokens\u001b[0m \u001b[0;34m=\u001b[0m \u001b[0menc\u001b[0m\u001b[0;34m.\u001b[0m\u001b[0mencode\u001b[0m\u001b[0;34m(\u001b[0m\u001b[0mstr\u001b[0m\u001b[0;34m(\u001b[0m\u001b[0ms\u001b[0m\u001b[0;34m)\u001b[0m\u001b[0;34m)\u001b[0m\u001b[0;34m\u001b[0m\u001b[0;34m\u001b[0m\u001b[0m\n\u001b[1;32m     15\u001b[0m     \u001b[0;32mreturn\u001b[0m \u001b[0mtokens\u001b[0m\u001b[0;34m\u001b[0m\u001b[0;34m\u001b[0m\u001b[0m\n",
      "\u001b[0;32m/Library/Frameworks/Python.framework/Versions/3.8/lib/python3.8/site-packages/tiktoken/model.py\u001b[0m in \u001b[0;36mencoding_for_model\u001b[0;34m(model_name)\u001b[0m\n\u001b[1;32m    101\u001b[0m     \u001b[0mRaises\u001b[0m \u001b[0ma\u001b[0m \u001b[0mKeyError\u001b[0m \u001b[0;32mif\u001b[0m \u001b[0mthe\u001b[0m \u001b[0mmodel\u001b[0m \u001b[0mname\u001b[0m \u001b[0;32mis\u001b[0m \u001b[0;32mnot\u001b[0m \u001b[0mrecognised\u001b[0m\u001b[0;34m.\u001b[0m\u001b[0;34m\u001b[0m\u001b[0;34m\u001b[0m\u001b[0m\n\u001b[1;32m    102\u001b[0m     \"\"\"\n\u001b[0;32m--> 103\u001b[0;31m     \u001b[0;32mreturn\u001b[0m \u001b[0mget_encoding\u001b[0m\u001b[0;34m(\u001b[0m\u001b[0mencoding_name_for_model\u001b[0m\u001b[0;34m(\u001b[0m\u001b[0mmodel_name\u001b[0m\u001b[0;34m)\u001b[0m\u001b[0;34m)\u001b[0m\u001b[0;34m\u001b[0m\u001b[0;34m\u001b[0m\u001b[0m\n\u001b[0m",
      "\u001b[0;32m/Library/Frameworks/Python.framework/Versions/3.8/lib/python3.8/site-packages/tiktoken/registry.py\u001b[0m in \u001b[0;36mget_encoding\u001b[0;34m(encoding_name)\u001b[0m\n\u001b[1;32m     71\u001b[0m \u001b[0;34m\u001b[0m\u001b[0m\n\u001b[1;32m     72\u001b[0m         \u001b[0mconstructor\u001b[0m \u001b[0;34m=\u001b[0m \u001b[0mENCODING_CONSTRUCTORS\u001b[0m\u001b[0;34m[\u001b[0m\u001b[0mencoding_name\u001b[0m\u001b[0;34m]\u001b[0m\u001b[0;34m\u001b[0m\u001b[0;34m\u001b[0m\u001b[0m\n\u001b[0;32m---> 73\u001b[0;31m         \u001b[0menc\u001b[0m \u001b[0;34m=\u001b[0m \u001b[0mEncoding\u001b[0m\u001b[0;34m(\u001b[0m\u001b[0;34m**\u001b[0m\u001b[0mconstructor\u001b[0m\u001b[0;34m(\u001b[0m\u001b[0;34m)\u001b[0m\u001b[0;34m)\u001b[0m\u001b[0;34m\u001b[0m\u001b[0;34m\u001b[0m\u001b[0m\n\u001b[0m\u001b[1;32m     74\u001b[0m         \u001b[0mENCODINGS\u001b[0m\u001b[0;34m[\u001b[0m\u001b[0mencoding_name\u001b[0m\u001b[0;34m]\u001b[0m \u001b[0;34m=\u001b[0m \u001b[0menc\u001b[0m\u001b[0;34m\u001b[0m\u001b[0;34m\u001b[0m\u001b[0m\n\u001b[1;32m     75\u001b[0m         \u001b[0;32mreturn\u001b[0m \u001b[0menc\u001b[0m\u001b[0;34m\u001b[0m\u001b[0;34m\u001b[0m\u001b[0m\n",
      "\u001b[0;32m/Library/Frameworks/Python.framework/Versions/3.8/lib/python3.8/site-packages/tiktoken_ext/openai_public.py\u001b[0m in \u001b[0;36mo200k_base\u001b[0;34m()\u001b[0m\n\u001b[1;32m     90\u001b[0m \u001b[0;34m\u001b[0m\u001b[0m\n\u001b[1;32m     91\u001b[0m \u001b[0;32mdef\u001b[0m \u001b[0mo200k_base\u001b[0m\u001b[0;34m(\u001b[0m\u001b[0;34m)\u001b[0m\u001b[0;34m:\u001b[0m\u001b[0;34m\u001b[0m\u001b[0;34m\u001b[0m\u001b[0m\n\u001b[0;32m---> 92\u001b[0;31m     mergeable_ranks = load_tiktoken_bpe(\n\u001b[0m\u001b[1;32m     93\u001b[0m         \u001b[0;34m\"https://openaipublic.blob.core.windows.net/encodings/o200k_base.tiktoken\"\u001b[0m\u001b[0;34m,\u001b[0m\u001b[0;34m\u001b[0m\u001b[0;34m\u001b[0m\u001b[0m\n\u001b[1;32m     94\u001b[0m         \u001b[0mexpected_hash\u001b[0m\u001b[0;34m=\u001b[0m\u001b[0;34m\"446a9538cb6c348e3516120d7c08b09f57c36495e2acfffe59a5bf8b0cfb1a2d\"\u001b[0m\u001b[0;34m,\u001b[0m\u001b[0;34m\u001b[0m\u001b[0;34m\u001b[0m\u001b[0m\n",
      "\u001b[0;32m/Library/Frameworks/Python.framework/Versions/3.8/lib/python3.8/site-packages/tiktoken/load.py\u001b[0m in \u001b[0;36mload_tiktoken_bpe\u001b[0;34m(tiktoken_bpe_file, expected_hash)\u001b[0m\n\u001b[1;32m    146\u001b[0m     \u001b[0;31m# NB: do not add caching to this function\u001b[0m\u001b[0;34m\u001b[0m\u001b[0;34m\u001b[0m\u001b[0;34m\u001b[0m\u001b[0m\n\u001b[1;32m    147\u001b[0m     \u001b[0mcontents\u001b[0m \u001b[0;34m=\u001b[0m \u001b[0mread_file_cached\u001b[0m\u001b[0;34m(\u001b[0m\u001b[0mtiktoken_bpe_file\u001b[0m\u001b[0;34m,\u001b[0m \u001b[0mexpected_hash\u001b[0m\u001b[0;34m)\u001b[0m\u001b[0;34m\u001b[0m\u001b[0;34m\u001b[0m\u001b[0m\n\u001b[0;32m--> 148\u001b[0;31m     return {\n\u001b[0m\u001b[1;32m    149\u001b[0m         \u001b[0mbase64\u001b[0m\u001b[0;34m.\u001b[0m\u001b[0mb64decode\u001b[0m\u001b[0;34m(\u001b[0m\u001b[0mtoken\u001b[0m\u001b[0;34m)\u001b[0m\u001b[0;34m:\u001b[0m \u001b[0mint\u001b[0m\u001b[0;34m(\u001b[0m\u001b[0mrank\u001b[0m\u001b[0;34m)\u001b[0m\u001b[0;34m\u001b[0m\u001b[0;34m\u001b[0m\u001b[0m\n\u001b[1;32m    150\u001b[0m         \u001b[0;32mfor\u001b[0m \u001b[0mtoken\u001b[0m\u001b[0;34m,\u001b[0m \u001b[0mrank\u001b[0m \u001b[0;32min\u001b[0m \u001b[0;34m(\u001b[0m\u001b[0mline\u001b[0m\u001b[0;34m.\u001b[0m\u001b[0msplit\u001b[0m\u001b[0;34m(\u001b[0m\u001b[0;34m)\u001b[0m \u001b[0;32mfor\u001b[0m \u001b[0mline\u001b[0m \u001b[0;32min\u001b[0m \u001b[0mcontents\u001b[0m\u001b[0;34m.\u001b[0m\u001b[0msplitlines\u001b[0m\u001b[0;34m(\u001b[0m\u001b[0;34m)\u001b[0m \u001b[0;32mif\u001b[0m \u001b[0mline\u001b[0m\u001b[0;34m)\u001b[0m\u001b[0;34m\u001b[0m\u001b[0;34m\u001b[0m\u001b[0m\n",
      "\u001b[0;32m/Library/Frameworks/Python.framework/Versions/3.8/lib/python3.8/site-packages/tiktoken/load.py\u001b[0m in \u001b[0;36m<dictcomp>\u001b[0;34m(.0)\u001b[0m\n\u001b[1;32m    146\u001b[0m     \u001b[0;31m# NB: do not add caching to this function\u001b[0m\u001b[0;34m\u001b[0m\u001b[0;34m\u001b[0m\u001b[0;34m\u001b[0m\u001b[0m\n\u001b[1;32m    147\u001b[0m     \u001b[0mcontents\u001b[0m \u001b[0;34m=\u001b[0m \u001b[0mread_file_cached\u001b[0m\u001b[0;34m(\u001b[0m\u001b[0mtiktoken_bpe_file\u001b[0m\u001b[0;34m,\u001b[0m \u001b[0mexpected_hash\u001b[0m\u001b[0;34m)\u001b[0m\u001b[0;34m\u001b[0m\u001b[0;34m\u001b[0m\u001b[0m\n\u001b[0;32m--> 148\u001b[0;31m     return {\n\u001b[0m\u001b[1;32m    149\u001b[0m         \u001b[0mbase64\u001b[0m\u001b[0;34m.\u001b[0m\u001b[0mb64decode\u001b[0m\u001b[0;34m(\u001b[0m\u001b[0mtoken\u001b[0m\u001b[0;34m)\u001b[0m\u001b[0;34m:\u001b[0m \u001b[0mint\u001b[0m\u001b[0;34m(\u001b[0m\u001b[0mrank\u001b[0m\u001b[0;34m)\u001b[0m\u001b[0;34m\u001b[0m\u001b[0;34m\u001b[0m\u001b[0m\n\u001b[1;32m    150\u001b[0m         \u001b[0;32mfor\u001b[0m \u001b[0mtoken\u001b[0m\u001b[0;34m,\u001b[0m \u001b[0mrank\u001b[0m \u001b[0;32min\u001b[0m \u001b[0;34m(\u001b[0m\u001b[0mline\u001b[0m\u001b[0;34m.\u001b[0m\u001b[0msplit\u001b[0m\u001b[0;34m(\u001b[0m\u001b[0;34m)\u001b[0m \u001b[0;32mfor\u001b[0m \u001b[0mline\u001b[0m \u001b[0;32min\u001b[0m \u001b[0mcontents\u001b[0m\u001b[0;34m.\u001b[0m\u001b[0msplitlines\u001b[0m\u001b[0;34m(\u001b[0m\u001b[0;34m)\u001b[0m \u001b[0;32mif\u001b[0m \u001b[0mline\u001b[0m\u001b[0;34m)\u001b[0m\u001b[0;34m\u001b[0m\u001b[0;34m\u001b[0m\u001b[0m\n",
      "\u001b[0;32m/Library/Frameworks/Python.framework/Versions/3.8/lib/python3.8/site-packages/tiktoken/load.py\u001b[0m in \u001b[0;36m<genexpr>\u001b[0;34m(.0)\u001b[0m\n\u001b[1;32m    148\u001b[0m     return {\n\u001b[1;32m    149\u001b[0m         \u001b[0mbase64\u001b[0m\u001b[0;34m.\u001b[0m\u001b[0mb64decode\u001b[0m\u001b[0;34m(\u001b[0m\u001b[0mtoken\u001b[0m\u001b[0;34m)\u001b[0m\u001b[0;34m:\u001b[0m \u001b[0mint\u001b[0m\u001b[0;34m(\u001b[0m\u001b[0mrank\u001b[0m\u001b[0;34m)\u001b[0m\u001b[0;34m\u001b[0m\u001b[0;34m\u001b[0m\u001b[0m\n\u001b[0;32m--> 150\u001b[0;31m         \u001b[0;32mfor\u001b[0m \u001b[0mtoken\u001b[0m\u001b[0;34m,\u001b[0m \u001b[0mrank\u001b[0m \u001b[0;32min\u001b[0m \u001b[0;34m(\u001b[0m\u001b[0mline\u001b[0m\u001b[0;34m.\u001b[0m\u001b[0msplit\u001b[0m\u001b[0;34m(\u001b[0m\u001b[0;34m)\u001b[0m \u001b[0;32mfor\u001b[0m \u001b[0mline\u001b[0m \u001b[0;32min\u001b[0m \u001b[0mcontents\u001b[0m\u001b[0;34m.\u001b[0m\u001b[0msplitlines\u001b[0m\u001b[0;34m(\u001b[0m\u001b[0;34m)\u001b[0m \u001b[0;32mif\u001b[0m \u001b[0mline\u001b[0m\u001b[0;34m)\u001b[0m\u001b[0;34m\u001b[0m\u001b[0;34m\u001b[0m\u001b[0m\n\u001b[0m\u001b[1;32m    151\u001b[0m     }\n",
      "\u001b[0;31mKeyboardInterrupt\u001b[0m: "
     ]
    }
   ],
   "source": [
    "# PROVIDED CODE\n",
    "\n",
    "try:\n",
    "    import tiktoken\n",
    "except Exception as e:\n",
    "    print('installing tiktoken package')\n",
    "    \n",
    "    !pip install tiktoken\n",
    "    \n",
    "    import tiktoken\n",
    "\n",
    "def tokenize_text(s):\n",
    "    enc = tiktoken.encoding_for_model('gpt-4o')\n",
    "    tokens = enc.encode(str(s))\n",
    "    return tokens\n",
    "\n",
    "example_string = 'hello world'\n",
    "print(f'humans see: \"{example_string}\" --> language models see: {tokenize_text(example_string)}')"
   ]
  },
  {
   "cell_type": "markdown",
   "id": "0ab56227",
   "metadata": {},
   "source": [
    "### 3.1 (5 pt)\n",
    "\n",
    "Use the provided code in the cell above to \"see the world through the eyes of a language model\":\n",
    "\n",
    "A. Tokenize the questions of the original MMLU data provided in task 1: `task_1/mmlu_data/test.csv` and plot the token distribution (the frequency of each token).\n",
    "\n",
    "B. Same as (A), but now for the answers in columns (columns \"A\", \"B\", \"C\", and \"D\").\n",
    "\n",
    "C. Isolate the tokens for the strings \"A\", \"B\", \"C\", and \"D\", then, for their occurances in both questions and answers, print their relative distribution to each other.\n",
    "\n",
    "**hint**\n",
    "- There are a _lot_ of tokens, consider using a cutoff point and log scale\n",
    "- For (c), they should sum to 1"
   ]
  },
  {
   "cell_type": "code",
   "execution_count": 15,
   "id": "a00f69cf",
   "metadata": {
    "scrolled": true
   },
   "outputs": [],
   "source": [
    "#A"
   ]
  },
  {
   "cell_type": "code",
   "execution_count": null,
   "id": "7f4ce783",
   "metadata": {},
   "outputs": [],
   "source": [
    "#B"
   ]
  },
  {
   "cell_type": "code",
   "execution_count": null,
   "id": "8015e92e",
   "metadata": {},
   "outputs": [],
   "source": [
    "#C"
   ]
  },
  {
   "cell_type": "markdown",
   "id": "2a9d0055",
   "metadata": {},
   "source": [
    "### 3.2 (3 pt)\n",
    "\n",
    "What if the number of \"A\", \"B\", \"C\", and \"D\" tokens in the question and answer pairs could influence a language model's decisions?\n",
    "\n",
    "A. For each question-answer pair, compute: \n",
    "1. the number of \"A\", \"B\", \"C\", and \"D\" tokens that occur in the combined question and answers; \n",
    "2. an the total number of tokens.\n",
    "3. then, group by the \"correct\" answer and compute the mean frequency of A, B, C, and D tokens and the total number of tokens. \n",
    "4. finally, print your results\n",
    "\n",
    "B. /Discuss:/ What do you think of the hypothesis that the frequency of A, B, C, and D tokens could influence answers?\n"
   ]
  },
  {
   "cell_type": "code",
   "execution_count": 17,
   "id": "cf09aaf6",
   "metadata": {},
   "outputs": [
    {
     "data": {
      "text/html": [
       "<div>\n",
       "<style scoped>\n",
       "    .dataframe tbody tr th:only-of-type {\n",
       "        vertical-align: middle;\n",
       "    }\n",
       "\n",
       "    .dataframe tbody tr th {\n",
       "        vertical-align: top;\n",
       "    }\n",
       "\n",
       "    .dataframe thead tr th {\n",
       "        text-align: left;\n",
       "    }\n",
       "\n",
       "    .dataframe thead tr:last-of-type th {\n",
       "        text-align: right;\n",
       "    }\n",
       "</style>\n",
       "<table border=\"1\" class=\"dataframe\">\n",
       "  <thead>\n",
       "    <tr>\n",
       "      <th></th>\n",
       "      <th>A</th>\n",
       "      <th>B</th>\n",
       "      <th>C</th>\n",
       "      <th>D</th>\n",
       "      <th>total</th>\n",
       "    </tr>\n",
       "    <tr>\n",
       "      <th></th>\n",
       "      <th>mean</th>\n",
       "      <th>mean</th>\n",
       "      <th>mean</th>\n",
       "      <th>mean</th>\n",
       "      <th>mean</th>\n",
       "    </tr>\n",
       "    <tr>\n",
       "      <th>answer</th>\n",
       "      <th></th>\n",
       "      <th></th>\n",
       "      <th></th>\n",
       "      <th></th>\n",
       "      <th></th>\n",
       "    </tr>\n",
       "  </thead>\n",
       "  <tbody>\n",
       "    <tr>\n",
       "      <th>A</th>\n",
       "      <td>0.243017</td>\n",
       "      <td>0.018932</td>\n",
       "      <td>0.025140</td>\n",
       "      <td>0.013035</td>\n",
       "      <td>93.187151</td>\n",
       "    </tr>\n",
       "    <tr>\n",
       "      <th>B</th>\n",
       "      <td>0.231947</td>\n",
       "      <td>0.019642</td>\n",
       "      <td>0.029463</td>\n",
       "      <td>0.012709</td>\n",
       "      <td>88.846332</td>\n",
       "    </tr>\n",
       "    <tr>\n",
       "      <th>C</th>\n",
       "      <td>0.226410</td>\n",
       "      <td>0.018984</td>\n",
       "      <td>0.034897</td>\n",
       "      <td>0.015355</td>\n",
       "      <td>92.653825</td>\n",
       "    </tr>\n",
       "    <tr>\n",
       "      <th>D</th>\n",
       "      <td>0.242850</td>\n",
       "      <td>0.014566</td>\n",
       "      <td>0.030985</td>\n",
       "      <td>0.014301</td>\n",
       "      <td>92.110169</td>\n",
       "    </tr>\n",
       "  </tbody>\n",
       "</table>\n",
       "</div>"
      ],
      "text/plain": [
       "               A         B         C         D      total\n",
       "            mean      mean      mean      mean       mean\n",
       "answer                                                   \n",
       "A       0.243017  0.018932  0.025140  0.013035  93.187151\n",
       "B       0.231947  0.019642  0.029463  0.012709  88.846332\n",
       "C       0.226410  0.018984  0.034897  0.015355  92.653825\n",
       "D       0.242850  0.014566  0.030985  0.014301  92.110169"
      ]
     },
     "execution_count": 17,
     "metadata": {},
     "output_type": "execute_result"
    }
   ],
   "source": [
    "#A"
   ]
  },
  {
   "cell_type": "markdown",
   "id": "020511d4",
   "metadata": {},
   "source": [
    "B. /Discuss:/"
   ]
  },
  {
   "cell_type": "markdown",
   "id": "c2b42b74",
   "metadata": {},
   "source": [
    "### 3.3 (4 pt)\n",
    "\n",
    "Three of the most important considerations when deciding between language models are:\n",
    "\n",
    "Quality\n",
    "Costs\n",
    "Speed\n",
    "\n",
    "So far, much of your analysis has focused on quality. However, the government has indicated that they are quite concerned about both the total costs and speed as well. Specifically, it has been brought to their attention that a new `turbo` model has been launched! \n",
    "\n",
    "This model is both cheaper and faster than the models you evaluated so far. However, there is a catch: the context length* is much smaller than that of the other LMS. Namely, it can only process **300** tokens during inference. Meanwhile, the other models can process up to 100K tokens! \n",
    "\n",
    "*_The “context length” refers to the number of tokens that can be given to an LM as input._\n",
    "\n",
    "A. Are there subjects where using the cheaper model might be problematic? I.e., where part of the question and answer(s) might not fit completely in the context?\n",
    "\n",
    "B. /Discuss:/ Can you think of a strategy that would balance the needs of the government?\n",
    "\n",
    "**hint**:\n",
    "- An LM needs to have both the question and the different answer options in its context"
   ]
  },
  {
   "cell_type": "code",
   "execution_count": 16,
   "id": "f365f2b6",
   "metadata": {},
   "outputs": [],
   "source": [
    "#A"
   ]
  },
  {
   "cell_type": "markdown",
   "id": "4231fdc6",
   "metadata": {},
   "source": [
    "B. /Discuss:/"
   ]
  },
  {
   "cell_type": "markdown",
   "id": "44558c5d",
   "metadata": {},
   "source": [
    "### 3.4 (4 pt)\n",
    "\n",
    "/Discuss:/ The time has come to give your final recommendation on the use of LMs in education to the government! Taking into account everything you analyzed in all the preceding tasks (1, 2, and 3), please write a short recommendation consisting of 4 bullet points discussing your concerns."
   ]
  },
  {
   "cell_type": "markdown",
   "id": "61c2e634",
   "metadata": {},
   "source": [
    "B. /Discuss:/\n",
    "\n",
    "1.\n",
    "\n",
    "2.\n",
    "\n",
    "3.\n",
    "\n",
    "4."
   ]
  }
 ],
 "metadata": {
  "kernelspec": {
   "display_name": "Python 3 (ipykernel)",
   "language": "python",
   "name": "python3"
  },
  "language_info": {
   "codemirror_mode": {
    "name": "ipython",
    "version": 3
   },
   "file_extension": ".py",
   "mimetype": "text/x-python",
   "name": "python",
   "nbconvert_exporter": "python",
   "pygments_lexer": "ipython3",
   "version": "3.9.13"
  }
 },
 "nbformat": 4,
 "nbformat_minor": 5
}
